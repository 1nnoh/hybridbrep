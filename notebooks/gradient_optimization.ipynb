{
 "cells": [
  {
   "cell_type": "code",
   "execution_count": 42,
   "metadata": {},
   "outputs": [],
   "source": [
    "from hybridbrep import BRepFaceAutoencoder, HPart, WeightedChamferDistance\n",
    "from tqdm import tqdm\n",
    "import numpy as np\n",
    "import torch\n",
    "from matplotlib import pyplot as plt\n",
    "import os\n",
    "from torch_geometric.transforms import SamplePoints\n",
    "from torch_geometric.data import Data as TGData\n",
    "import meshplot as mp\n",
    "from chamferdist import ChamferDistance"
   ]
  },
  {
   "cell_type": "code",
   "execution_count": 55,
   "metadata": {},
   "outputs": [
    {
     "name": "stderr",
     "output_type": "stream",
     "text": [
      "100%|██████████| 10000/10000 [02:44<00:00, 60.94it/s]\n"
     ]
    },
    {
     "data": {
      "text/plain": [
       "[<matplotlib.lines.Line2D at 0x7fda5c339130>]"
      ]
     },
     "execution_count": 55,
     "metadata": {},
     "output_type": "execute_result"
    },
    {
     "data": {
      "image/png": "[encoded data removed]",
      "text/plain": [
       "<Figure size 640x480 with 1 Axes>"
      ]
     },
     "metadata": {},
     "output_type": "display_data"
    }
   ],
   "source": [
    "repbrep_path = '../../'\n",
    "model_checkpoint_path = '../../training_logs/reconstruction/old_no_loops/version_0/checkpoints/epoch=38-val_loss=0.002679.ckpt'\n",
    "\n",
    "cube_path = os.path.join(repbrep_path, 'datasets', 'cubes', 'cube.x_t')\n",
    "angled_cube_path = os.path.join(repbrep_path, 'datasets', 'cubes', 'angled_cube.x_t')\n",
    "long_cube_path = os.path.join(repbrep_path, 'datasets', 'cubes', 'long_cube.x_t')\n",
    "\n",
    "frame_guide_1_path = os.path.join(repbrep_path, 'datasets', 'frame_guide', 'fg1.x_t')\n",
    "frame_guide_2_path = os.path.join(repbrep_path, 'datasets', 'frame_guide', 'fg2.x_t')\n",
    "\n",
    "rounded_rect_1_path = os.path.join(repbrep_path, 'datasets', 'rounded_rect', 'rounded_rect1.step')\n",
    "rounded_rect_2_path = os.path.join(repbrep_path, 'datasets', 'rounded_rect', 'rounded_rect2.step')\n",
    "\n",
    "holybox1_path = os.path.join(repbrep_path, 'datasets', 'holybox', 'holey_box.step')\n",
    "holybox2_path = os.path.join(repbrep_path, 'datasets', 'holybox', 'holey_box_angled.step')\n",
    "\n",
    "source_part_path = holybox1_path\n",
    "target_part_path = holybox2_path\n",
    "\n",
    "weighted = True\n",
    "num_iters = 10000\n",
    "reproject = False\n",
    "\n",
    "sampler = SamplePoints(6*1000)\n",
    "\n",
    "source_part = HPart(source_part_path, normalize=True).data\n",
    "target_part = HPart(target_part_path, normalize=False).data\n",
    "target_part_normalized = HPart(target_part_path, normalize=True).data\n",
    "\n",
    "target_V = source_part.scale*(target_part.V + source_part.translation)\n",
    "target_F = target_part.F\n",
    "target_data = TGData(pos=target_V,face=target_F)\n",
    "sampler(target_data)\n",
    "target_pc = target_data.pos\n",
    "\n",
    "checkpoint = torch.load(model_checkpoint_path)\n",
    "\n",
    "model = BRepFaceAutoencoder(64, 1024,4, False)\n",
    "model.load_state_dict(checkpoint['state_dict'])\n",
    "\n",
    "n_faces = len(source_part.faces)\n",
    "N = 50\n",
    "line = torch.linspace(-0.1,1.1,N)\n",
    "grid = torch.cartesian_prod(line, line)\n",
    "grids = grid.repeat(n_faces,1)\n",
    "indices = torch.arange(n_faces).repeat_interleave(N*N, dim=0)\n",
    "\n",
    "model = model.cuda()\n",
    "grids = grids.cuda()\n",
    "indices = indices.cuda()\n",
    "target = target_pc.unsqueeze(0).float().cuda()\n",
    "source_part = source_part.cuda()\n",
    "\n",
    "source_part.faces.requires_grad = True\n",
    "source_part.edges.requires_grad = True\n",
    "source_part.vertices.requires_grad = True\n",
    "\n",
    "opt = torch.optim.SGD(\n",
    "    [\n",
    "        source_part.faces,\n",
    "        source_part.edges,\n",
    "        source_part.vertices\n",
    "    ], \n",
    "    lr=0.00075, \n",
    "    momentum=0.3\n",
    ")\n",
    "\n",
    "losses = []\n",
    "predictions = []\n",
    "chamferDist = WeightedChamferDistance(sharpness=2) if weighted else ChamferDistance()\n",
    "\n",
    "\n",
    "for iter in tqdm(range(num_iters)):\n",
    "    opt.zero_grad()\n",
    "    pred = model(source_part, grids, indices)\n",
    "    pred_xyz = pred[:,:3].unsqueeze(0).float()\n",
    "    pred_m = pred[:,3].unsqueeze(0).float()\n",
    "    loss = chamferDist(pred.unsqueeze(0).float(), target) if weighted else chamferDist(pred_xyz, target) + chamferDist(target, pred_xyz)\n",
    "    loss.backward()\n",
    "    opt.step()\n",
    "    losses.append(loss.detach().item())\n",
    "    predictions.append((pred_xyz.detach().cpu().numpy(), pred_m.detach().cpu().numpy()))\n",
    "\n",
    "plt.plot(losses)"
   ]
  },
  {
   "cell_type": "code",
   "execution_count": 56,
   "metadata": {},
   "outputs": [
    {
     "data": {
      "application/vnd.jupyter.widget-view+json": {
       "model_id": "5cbd32efbad44d32a6784b52fb1e7741",
       "version_major": 2,
       "version_minor": 0
      },
      "text/plain": [
       "Renderer(camera=PerspectiveCamera(children=(DirectionalLight(color='white', intensity=0.6, position=(0.0035903…"
      ]
     },
     "metadata": {},
     "output_type": "display_data"
    },
    {
     "data": {
      "application/vnd.jupyter.widget-view+json": {
       "model_id": "932c9aaa56494db5b0398125e9340444",
       "version_major": 2,
       "version_minor": 0
      },
      "text/plain": [
       "Renderer(camera=PerspectiveCamera(children=(DirectionalLight(color='white', intensity=0.6, position=(-0.151517…"
      ]
     },
     "metadata": {},
     "output_type": "display_data"
    },
    {
     "data": {
      "application/vnd.jupyter.widget-view+json": {
       "model_id": "2f71751d1f45446a82544c45c31a2959",
       "version_major": 2,
       "version_minor": 0
      },
      "text/plain": [
       "Renderer(camera=PerspectiveCamera(children=(DirectionalLight(color='white', intensity=0.6, position=(-0.160740…"
      ]
     },
     "metadata": {},
     "output_type": "display_data"
    },
    {
     "data": {
      "application/vnd.jupyter.widget-view+json": {
       "model_id": "0b8091e3f82d4eaaabf3c83ddee0a97c",
       "version_major": 2,
       "version_minor": 0
      },
      "text/plain": [
       "Renderer(camera=PerspectiveCamera(children=(DirectionalLight(color='white', intensity=0.6, position=(-0.165955…"
      ]
     },
     "metadata": {},
     "output_type": "display_data"
    },
    {
     "data": {
      "application/vnd.jupyter.widget-view+json": {
       "model_id": "0ce6c1e5b85e4a388ffb36c26a5398eb",
       "version_major": 2,
       "version_minor": 0
      },
      "text/plain": [
       "Renderer(camera=PerspectiveCamera(children=(DirectionalLight(color='white', intensity=0.6, position=(-0.163906…"
      ]
     },
     "metadata": {},
     "output_type": "display_data"
    },
    {
     "data": {
      "application/vnd.jupyter.widget-view+json": {
       "model_id": "c2cc438285a74aef9f9af8576cbbb31d",
       "version_major": 2,
       "version_minor": 0
      },
      "text/plain": [
       "Renderer(camera=PerspectiveCamera(children=(DirectionalLight(color='white', intensity=0.6, position=(-0.155160…"
      ]
     },
     "metadata": {},
     "output_type": "display_data"
    },
    {
     "data": {
      "application/vnd.jupyter.widget-view+json": {
       "model_id": "b1ff754293a7414fb5741ea9cab47d95",
       "version_major": 2,
       "version_minor": 0
      },
      "text/plain": [
       "Renderer(camera=PerspectiveCamera(children=(DirectionalLight(color='white', intensity=0.6, position=(-0.154115…"
      ]
     },
     "metadata": {},
     "output_type": "display_data"
    },
    {
     "data": {
      "application/vnd.jupyter.widget-view+json": {
       "model_id": "2242f5f0601c4628b5f237cacc993d06",
       "version_major": 2,
       "version_minor": 0
      },
      "text/plain": [
       "Renderer(camera=PerspectiveCamera(children=(DirectionalLight(color='white', intensity=0.6, position=(-0.154749…"
      ]
     },
     "metadata": {},
     "output_type": "display_data"
    },
    {
     "data": {
      "application/vnd.jupyter.widget-view+json": {
       "model_id": "0391d0a4dad74993897bd1d18f27a7f5",
       "version_major": 2,
       "version_minor": 0
      },
      "text/plain": [
       "Renderer(camera=PerspectiveCamera(children=(DirectionalLight(color='white', intensity=0.6, position=(-0.155642…"
      ]
     },
     "metadata": {},
     "output_type": "display_data"
    },
    {
     "data": {
      "application/vnd.jupyter.widget-view+json": {
       "model_id": "185556a73a1d4978bfdf09c4af701586",
       "version_major": 2,
       "version_minor": 0
      },
      "text/plain": [
       "Renderer(camera=PerspectiveCamera(children=(DirectionalLight(color='white', intensity=0.6, position=(-0.158208…"
      ]
     },
     "metadata": {},
     "output_type": "display_data"
    }
   ],
   "source": [
    "n_plots = 10\n",
    "n_preds = len(predictions)\n",
    "plot_steps = torch.linspace(0,n_preds-1,n_plots).int().numpy()\n",
    "\n",
    "for i in plot_steps:\n",
    "    xyz = predictions[i][0][0,:,:]\n",
    "    mask = predictions[i][1][0,:]\n",
    "\n",
    "    plot = mp.plot(xyz, c=(mask <= 0.0), shading={'point_size':0.1}, return_plot=True)\n",
    "    plot.add_points(target_pc.numpy(), shading={'point_size':0.1, 'point_color':'red'})\n"
   ]
  },
  {
   "cell_type": "code",
   "execution_count": 61,
   "metadata": {},
   "outputs": [
    {
     "data": {
      "text/plain": [
       "tensor([1, 0, 0, 2, 0, 0, 0], device='cuda:0')"
      ]
     },
     "execution_count": 61,
     "metadata": {},
     "output_type": "execute_result"
    }
   ],
   "source": [
    "source_part.faces[:,:5].argmax(dim=1)"
   ]
  },
  {
   "cell_type": "code",
   "execution_count": 62,
   "metadata": {},
   "outputs": [
    {
     "data": {
      "text/plain": [
       "torch.Size([7, 21])"
      ]
     },
     "execution_count": 62,
     "metadata": {},
     "output_type": "execute_result"
    }
   ],
   "source": [
    "source_part.faces.shape"
   ]
  },
  {
   "cell_type": "code",
   "execution_count": 65,
   "metadata": {},
   "outputs": [],
   "source": [
    "type = source_part.faces[:,:5].argmax(dim=1).detach().cpu().numpy()\n",
    "origin = source_part.faces[:,5:8].cpu().detach().numpy()\n",
    "normal = source_part.faces[:,8:11].cpu().detach().numpy()\n",
    "axis = source_part.faces[:,11:14].cpu().detach().numpy()\n",
    "ref_dif = source_part.faces[:,14:17].cpu().detach().numpy()\n",
    "radius = source_part.faces[:,17].cpu().detach().numpy()\n",
    "minor_radius = source_part.faces[:,18].cpu().detach().numpy()\n",
    "semi_angle = source_part.faces[:,19].cpu().detach().numpy()\n",
    "flipped = source_part.faces[:,20].cpu().detach().numpy()"
   ]
  },
  {
   "cell_type": "code",
   "execution_count": null,
   "metadata": {},
   "outputs": [],
   "source": [
    "for i in range(len(type)):\n",
    "    "
   ]
  },
  {
   "cell_type": "code",
   "execution_count": null,
   "metadata": {},
   "outputs": [],
   "source": []
  }
 ],
 "metadata": {
  "kernelspec": {
   "display_name": "Python 3.9.13 ('hybridbrep')",
   "language": "python",
   "name": "python3"
  },
  "language_info": {
   "codemirror_mode": {
    "name": "ipython",
    "version": 3
   },
   "file_extension": ".py",
   "mimetype": "text/x-python",
   "name": "python",
   "nbconvert_exporter": "python",
   "pygments_lexer": "ipython3",
   "version": "3.9.13"
  },
  "orig_nbformat": 4,
  "vscode": {
   "interpreter": {
    "hash": "6aa2ac8926c38c90b9dbe4656179f4fe9d7aa58f584c2a3569efb38019544a4b"
   }
  }
 },
 "nbformat": 4,
 "nbformat_minor": 2
}

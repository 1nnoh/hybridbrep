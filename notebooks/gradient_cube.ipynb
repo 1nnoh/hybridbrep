{
 "cells": [
  {
   "cell_type": "code",
   "execution_count": 2,
   "metadata": {},
   "outputs": [],
   "source": [
    "from train_latent_space import (\n",
    "    BRepDS, \n",
    "    BRepFaceAutoencoder, \n",
    "    BRepFaceEncoder, \n",
    "    implicit_part_to_data, \n",
    "    ImplicitPart, \n",
    "    ImplicitDecoder\n",
    ")\n",
    "import meshplot as mp\n",
    "from automate import Part, PartOptions\n",
    "import numpy as np\n",
    "import torch\n",
    "from torch_geometric.transforms import SamplePoints\n",
    "from torch_geometric.data import Data as TGData\n",
    "from matplotlib import pyplot as plt\n",
    "from tqdm import tqdm\n",
    "from chamferdist import ChamferDistance\n",
    "import os"
   ]
  },
  {
   "cell_type": "code",
   "execution_count": 3,
   "metadata": {},
   "outputs": [],
   "source": [
    "# Stolen from pytorch3d, and tweaked (very little).\n",
    "\n",
    "# Copyright (c) Facebook, Inc. and its affiliates. All rights reserved.\n",
    "\n",
    "import warnings\n",
    "from collections import namedtuple\n",
    "from typing import Optional, Union\n",
    "\n",
    "import torch\n",
    "\n",
    "# Throws an error without this import\n",
    "from chamferdist import _C\n",
    "from torch.autograd import Function\n",
    "from torch.autograd.function import once_differentiable\n",
    "\n",
    "\n",
    "_KNN = namedtuple(\"KNN\", \"dists idx knn\")\n",
    "\n",
    "\n",
    "class WeightedChamferDistance(torch.nn.Module):\n",
    "    def __init__(self, sharpness=1):\n",
    "        super(WeightedChamferDistance, self).__init__()\n",
    "        self.sharpness = sharpness\n",
    "        \n",
    "    def forward(\n",
    "        self,\n",
    "        source_cloud: torch.Tensor,\n",
    "        target_cloud: torch.Tensor\n",
    "    ):\n",
    "\n",
    "        if not isinstance(source_cloud, torch.Tensor):\n",
    "            raise TypeError(\n",
    "                \"Expected input type torch.Tensor. Got {} instead\".format(type(pts))\n",
    "            )\n",
    "        if not isinstance(target_cloud, torch.Tensor):\n",
    "            raise TypeError(\n",
    "                \"Expected input type torch.Tensor. Got {} instead\".format(type(pts))\n",
    "            )\n",
    "        if source_cloud.device != target_cloud.device:\n",
    "            raise ValueError(\n",
    "                \"Source and target clouds must be on the same device. \"\n",
    "                f\"Got {source_cloud.device} and {target_cloud.device}.\"\n",
    "            )\n",
    "\n",
    "        source_weights = torch.sigmoid(-self.sharpness * source_cloud[:,:,-1])\n",
    "        source_cloud = source_cloud[:,:,:-1]\n",
    "        batchsize_source, lengths_source, dim_source = source_cloud.shape\n",
    "        batchsize_target, lengths_target, dim_target = target_cloud.shape\n",
    "\n",
    "        lengths_source = (\n",
    "            torch.ones(batchsize_source, dtype=torch.long, device=source_cloud.device)\n",
    "            * lengths_source\n",
    "        )\n",
    "        lengths_target = (\n",
    "            torch.ones(batchsize_target, dtype=torch.long, device=target_cloud.device)\n",
    "            * lengths_target\n",
    "        )\n",
    "\n",
    "        chamfer_dist = None\n",
    "\n",
    "        if batchsize_source != batchsize_target:\n",
    "            raise ValueError(\n",
    "                \"Source and target pointclouds must have the same batchsize.\"\n",
    "            )\n",
    "        if dim_source != dim_target:\n",
    "            raise ValueError(\n",
    "                \"Source and target pointclouds must have the same dimensionality.\"\n",
    "            )\n",
    "\n",
    "        source_nn = knn_points(\n",
    "            source_cloud,\n",
    "            target_cloud,\n",
    "            lengths1=lengths_source,\n",
    "            lengths2=lengths_target,\n",
    "            K=1,\n",
    "        )\n",
    "\n",
    "        target_nn = knn_points(\n",
    "            target_cloud,\n",
    "            source_cloud,\n",
    "            lengths1=lengths_target,\n",
    "            lengths2=lengths_source,\n",
    "            K=1,\n",
    "        )\n",
    "\n",
    "        # Forward Chamfer distance (batchsize_source, lengths_source)\n",
    "        chamfer_forward = source_nn.dists[..., 0]\n",
    "        # Backward Chamfer distance (batchsize_source, lengths_source)\n",
    "        chamfer_backward = target_nn.dists[..., 0]\n",
    "\n",
    "        # Do weighted instead\n",
    "        weights_forward = source_weights\n",
    "        weights_backward = source_weights.flatten()[target_nn.idx[..., 0]]\n",
    "\n",
    "        chamfer_forward = weights_forward*chamfer_forward # Per Blue\n",
    "        chamfer_backward = (2-weights_backward)*chamfer_backward # Per Red\n",
    "        just_weights_backwards = (1-weights_backward)\n",
    "        chamfer_backward = .005 * just_weights_backwards + chamfer_backward\n",
    "\n",
    "        chamfer_forward = chamfer_forward.sum(1)  # (batchsize_source,)\n",
    "        chamfer_backward = chamfer_backward.sum(1)  # (batchsize_target,)\n",
    "\n",
    "        chamfer_forward = chamfer_forward.mean()  # (1,)\n",
    "        chamfer_backward = chamfer_backward.mean()  # (1,)\n",
    "\n",
    "        return chamfer_forward + chamfer_backward\n",
    "\n",
    "\n",
    "class _knn_points(Function):\n",
    "    \"\"\"\n",
    "    Torch autograd Function wrapper for KNN C++/CUDA implementations.\n",
    "    \"\"\"\n",
    "\n",
    "    @staticmethod\n",
    "    def forward(\n",
    "        ctx, p1, p2, lengths1, lengths2, K, version, return_sorted: bool = True\n",
    "    ):\n",
    "        \"\"\"\n",
    "        K-Nearest neighbors on point clouds.\n",
    "        Args:\n",
    "            p1: Tensor of shape (N, P1, D) giving a batch of N point clouds, each\n",
    "                containing up to P1 points of dimension D.\n",
    "            p2: Tensor of shape (N, P2, D) giving a batch of N point clouds, each\n",
    "                containing up to P2 points of dimension D.\n",
    "            lengths1: LongTensor of shape (N,) of values in the range [0, P1], giving the\n",
    "                length of each pointcloud in p1. Or None to indicate that every cloud has\n",
    "                length P1.\n",
    "            lengths2: LongTensor of shape (N,) of values in the range [0, P2], giving the\n",
    "                length of each pointcloud in p2. Or None to indicate that every cloud has\n",
    "                length P2.\n",
    "            K: Integer giving the number of nearest neighbors to return.\n",
    "            version: Which KNN implementation to use in the backend. If version=-1,\n",
    "                the correct implementation is selected based on the shapes of the inputs.\n",
    "            return_sorted: (bool) whether to return the nearest neighbors sorted in\n",
    "                ascending order of distance.\n",
    "        Returns:\n",
    "            p1_dists: Tensor of shape (N, P1, K) giving the squared distances to\n",
    "                the nearest neighbors. This is padded with zeros both where a cloud in p2\n",
    "                has fewer than K points and where a cloud in p1 has fewer than P1 points.\n",
    "            p1_idx: LongTensor of shape (N, P1, K) giving the indices of the\n",
    "                K nearest neighbors from points in p1 to points in p2.\n",
    "                Concretely, if `p1_idx[n, i, k] = j` then `p2[n, j]` is the k-th nearest\n",
    "                neighbors to `p1[n, i]` in `p2[n]`. This is padded with zeros both where a cloud\n",
    "                in p2 has fewer than K points and where a cloud in p1 has fewer than P1 points.\n",
    "        \"\"\"\n",
    "\n",
    "        # pyre-fixme[16]: Module `pytorch3d` has no attribute `_C`.\n",
    "        idx, dists = _C.knn_points_idx(p1, p2, lengths1, lengths2, K, version)\n",
    "\n",
    "        # sort KNN in ascending order if K > 1\n",
    "        if K > 1 and return_sorted:\n",
    "            if lengths2.min() < K:\n",
    "                P1 = p1.shape[1]\n",
    "                mask = lengths2[:, None] <= torch.arange(K, device=dists.device)[None]\n",
    "                # mask has shape [N, K], true where dists irrelevant\n",
    "                mask = mask[:, None].expand(-1, P1, -1)\n",
    "                # mask has shape [N, P1, K], true where dists irrelevant\n",
    "                dists[mask] = float(\"inf\")\n",
    "                dists, sort_idx = dists.sort(dim=2)\n",
    "                dists[mask] = 0\n",
    "            else:\n",
    "                dists, sort_idx = dists.sort(dim=2)\n",
    "            idx = idx.gather(2, sort_idx)\n",
    "\n",
    "        ctx.save_for_backward(p1, p2, lengths1, lengths2, idx)\n",
    "        ctx.mark_non_differentiable(idx)\n",
    "        return dists, idx\n",
    "\n",
    "    @staticmethod\n",
    "    @once_differentiable\n",
    "    def backward(ctx, grad_dists, grad_idx):\n",
    "        p1, p2, lengths1, lengths2, idx = ctx.saved_tensors\n",
    "        # TODO(gkioxari) Change cast to floats once we add support for doubles.\n",
    "        if not (grad_dists.dtype == torch.float32):\n",
    "            grad_dists = grad_dists.float()\n",
    "        if not (p1.dtype == torch.float32):\n",
    "            p1 = p1.float()\n",
    "        if not (p2.dtype == torch.float32):\n",
    "            p2 = p2.float()\n",
    "        grad_p1, grad_p2 = _C.knn_points_backward(\n",
    "            p1, p2, lengths1, lengths2, idx, grad_dists\n",
    "        )\n",
    "        return grad_p1, grad_p2, None, None, None, None, None\n",
    "\n",
    "\n",
    "def knn_points(\n",
    "    p1: torch.Tensor,\n",
    "    p2: torch.Tensor,\n",
    "    lengths1: Union[torch.Tensor, None] = None,\n",
    "    lengths2: Union[torch.Tensor, None] = None,\n",
    "    K: int = 1,\n",
    "    version: int = -1,\n",
    "    return_nn: bool = False,\n",
    "    return_sorted: bool = True,\n",
    "):\n",
    "    \"\"\"\n",
    "    K-Nearest neighbors on point clouds.\n",
    "    Args:\n",
    "        p1: Tensor of shape (N, P1, D) giving a batch of N point clouds, each\n",
    "            containing up to P1 points of dimension D.\n",
    "        p2: Tensor of shape (N, P2, D) giving a batch of N point clouds, each\n",
    "            containing up to P2 points of dimension D.\n",
    "        lengths1: LongTensor of shape (N,) of values in the range [0, P1], giving the\n",
    "            length of each pointcloud in p1. Or None to indicate that every cloud has\n",
    "            length P1.\n",
    "        lengths2: LongTensor of shape (N,) of values in the range [0, P2], giving the\n",
    "            length of each pointcloud in p2. Or None to indicate that every cloud has\n",
    "            length P2.\n",
    "        K: Integer giving the number of nearest neighbors to return.\n",
    "        version: Which KNN implementation to use in the backend. If version=-1,\n",
    "            the correct implementation is selected based on the shapes of the inputs.\n",
    "        return_nn: If set to True returns the K nearest neighbors in p2 for each point in p1.\n",
    "        return_sorted: (bool) whether to return the nearest neighbors sorted in\n",
    "            ascending order of distance.\n",
    "    Returns:\n",
    "        dists: Tensor of shape (N, P1, K) giving the squared distances to\n",
    "            the nearest neighbors. This is padded with zeros both where a cloud in p2\n",
    "            has fewer than K points and where a cloud in p1 has fewer than P1 points.\n",
    "        idx: LongTensor of shape (N, P1, K) giving the indices of the\n",
    "            K nearest neighbors from points in p1 to points in p2.\n",
    "            Concretely, if `p1_idx[n, i, k] = j` then `p2[n, j]` is the k-th nearest\n",
    "            neighbors to `p1[n, i]` in `p2[n]`. This is padded with zeros both where a cloud\n",
    "            in p2 has fewer than K points and where a cloud in p1 has fewer than P1\n",
    "            points.\n",
    "        nn: Tensor of shape (N, P1, K, D) giving the K nearest neighbors in p2 for\n",
    "            each point in p1. Concretely, `p2_nn[n, i, k]` gives the k-th nearest neighbor\n",
    "            for `p1[n, i]`. Returned if `return_nn` is True.\n",
    "            The nearest neighbors are collected using `knn_gather`\n",
    "            .. code-block::\n",
    "                p2_nn = knn_gather(p2, p1_idx, lengths2)\n",
    "            which is a helper function that allows indexing any tensor of shape (N, P2, U) with\n",
    "            the indices `p1_idx` returned by `knn_points`. The outout is a tensor\n",
    "            of shape (N, P1, K, U).\n",
    "    \"\"\"\n",
    "    if p1.shape[0] != p2.shape[0]:\n",
    "        raise ValueError(\"pts1 and pts2 must have the same batch dimension.\")\n",
    "    if p1.shape[2] != p2.shape[2]:\n",
    "        raise ValueError(\"pts1 and pts2 must have the same point dimension.\")\n",
    "\n",
    "    p1 = p1.contiguous()\n",
    "    p2 = p2.contiguous()\n",
    "\n",
    "    P1 = p1.shape[1]\n",
    "    P2 = p2.shape[1]\n",
    "\n",
    "    if lengths1 is None:\n",
    "        lengths1 = torch.full((p1.shape[0],), P1, dtype=torch.int64, device=p1.device)\n",
    "    if lengths2 is None:\n",
    "        lengths2 = torch.full((p1.shape[0],), P2, dtype=torch.int64, device=p1.device)\n",
    "\n",
    "    # pyre-fixme[16]: `_knn_points` has no attribute `apply`.\n",
    "    p1_dists, p1_idx = _knn_points.apply(\n",
    "        p1, p2, lengths1, lengths2, K, version, return_sorted\n",
    "    )\n",
    "\n",
    "    p2_nn = None\n",
    "    if return_nn:\n",
    "        p2_nn = knn_gather(p2, p1_idx, lengths2)\n",
    "\n",
    "    return _KNN(dists=p1_dists, idx=p1_idx, knn=p2_nn if return_nn else None)\n",
    "\n",
    "\n",
    "def knn_gather(\n",
    "    x: torch.Tensor, idx: torch.Tensor, lengths: Union[torch.Tensor, None] = None\n",
    "):\n",
    "    \"\"\"\n",
    "    A helper function for knn that allows indexing a tensor x with the indices `idx`\n",
    "    returned by `knn_points`.\n",
    "    For example, if `dists, idx = knn_points(p, x, lengths_p, lengths, K)`\n",
    "    where p is a tensor of shape (N, L, D) and x a tensor of shape (N, M, D),\n",
    "    then one can compute the K nearest neighbors of p with `p_nn = knn_gather(x, idx, lengths)`.\n",
    "    It can also be applied for any tensor x of shape (N, M, U) where U != D.\n",
    "    Args:\n",
    "        x: Tensor of shape (N, M, U) containing U-dimensional features to\n",
    "            be gathered.\n",
    "        idx: LongTensor of shape (N, L, K) giving the indices returned by `knn_points`.\n",
    "        lengths: LongTensor of shape (N,) of values in the range [0, M], giving the\n",
    "            length of each example in the batch in x. Or None to indicate that every\n",
    "            example has length M.\n",
    "    Returns:\n",
    "        x_out: Tensor of shape (N, L, K, U) resulting from gathering the elements of x\n",
    "            with idx, s.t. `x_out[n, l, k] = x[n, idx[n, l, k]]`.\n",
    "            If `k > lengths[n]` then `x_out[n, l, k]` is filled with 0.0.\n",
    "    \"\"\"\n",
    "    N, M, U = x.shape\n",
    "    _N, L, K = idx.shape\n",
    "\n",
    "    if N != _N:\n",
    "        raise ValueError(\"x and idx must have same batch dimension.\")\n",
    "\n",
    "    if lengths is None:\n",
    "        lengths = torch.full((x.shape[0],), M, dtype=torch.int64, device=x.device)\n",
    "\n",
    "    idx_expanded = idx[:, :, :, None].expand(-1, -1, -1, U)\n",
    "    # idx_expanded has shape [N, L, K, U]\n",
    "\n",
    "    x_out = x[:, :, None].expand(-1, -1, K, -1).gather(1, idx_expanded)\n",
    "    # p2_nn has shape [N, L, K, U]\n",
    "\n",
    "    needs_mask = lengths.min() < K\n",
    "    if needs_mask:\n",
    "        # mask has shape [N, K], true where idx is irrelevant because\n",
    "        # there is less number of points in p2 than K\n",
    "        mask = lengths[:, None] <= torch.arange(K, device=x.device)[None]\n",
    "\n",
    "        # expand mask to shape [N, L, K, U]\n",
    "        mask = mask[:, None].expand(-1, L, -1)\n",
    "        mask = mask[:, :, :, None].expand(-1, -1, -1, U)\n",
    "        x_out[mask] = 0.0\n",
    "\n",
    "    return x_out\n"
   ]
  },
  {
   "cell_type": "code",
   "execution_count": 5,
   "metadata": {},
   "outputs": [
    {
     "name": "stderr",
     "output_type": "stream",
     "text": [
      "100%|██████████| 1000/1000 [00:17<00:00, 58.54it/s]\n"
     ]
    },
    {
     "data": {
      "application/vnd.jupyter.widget-view+json": {
       "model_id": "07f020234c3b4ee3bd5e313f6243ed70",
       "version_major": 2,
       "version_minor": 0
      },
      "text/plain": [
       "Renderer(camera=PerspectiveCamera(children=(DirectionalLight(color='white', intensity=0.6, position=(0.0064468…"
      ]
     },
     "metadata": {},
     "output_type": "display_data"
    },
    {
     "data": {
      "application/vnd.jupyter.widget-view+json": {
       "model_id": "e8a6909843a0421eabae916c1ec3d598",
       "version_major": 2,
       "version_minor": 0
      },
      "text/plain": [
       "Renderer(camera=PerspectiveCamera(children=(DirectionalLight(color='white', intensity=0.6, position=(-0.143525…"
      ]
     },
     "metadata": {},
     "output_type": "display_data"
    },
    {
     "data": {
      "application/vnd.jupyter.widget-view+json": {
       "model_id": "39f2370ce23340d98ba05755f3a2574f",
       "version_major": 2,
       "version_minor": 0
      },
      "text/plain": [
       "Renderer(camera=PerspectiveCamera(children=(DirectionalLight(color='white', intensity=0.6, position=(0.0131600…"
      ]
     },
     "metadata": {},
     "output_type": "display_data"
    },
    {
     "data": {
      "text/plain": [
       "2"
      ]
     },
     "execution_count": 5,
     "metadata": {},
     "output_type": "execute_result"
    },
    {
     "data": {
      "image/png": "[encoded data removed]",
      "text/plain": [
       "<Figure size 640x480 with 1 Axes>"
      ]
     },
     "metadata": {},
     "output_type": "display_data"
    },
    {
     "data": {
      "image/png": "[encoded data removed]",
      "text/plain": [
       "<Figure size 640x480 with 1 Axes>"
      ]
     },
     "metadata": {},
     "output_type": "display_data"
    }
   ],
   "source": [
    "repbrep_path = '../../'\n",
    "model_checkpoint_path = os.path.join(repbrep_path, 'models', 'BRepFaceAutoencoder_64_1024_4', 'BRepFaceAutoencoder_64_1024_4.ckpt')\n",
    "\n",
    "cube_path = os.path.join(repbrep_path, 'datasets', 'cubes', 'cube.x_t')\n",
    "angled_cube_path = os.path.join(repbrep_path, 'datasets', 'cubes', 'angled_cube.x_t')\n",
    "long_cube_path = os.path.join(repbrep_path, 'datasets', 'cubes', 'long_cube.x_t')\n",
    "\n",
    "frame_guide_1_path = os.path.join(repbrep_path, 'datasets', 'frame_guide', 'fg1.x_t')\n",
    "frame_guide_2_path = os.path.join(repbrep_path, 'datasets', 'frame_guide', 'fg2.x_t')\n",
    "\n",
    "rounded_rect_1_path = os.path.join(repbrep_path, 'datasets', 'rounded_rect', 'rounded_rect1.step')\n",
    "rounded_rect_2_path = os.path.join(repbrep_path, 'datasets', 'rounded_rect', 'rounded_rect2.step')\n",
    "\n",
    "holybox1_path = os.path.join(repbrep_path, 'datasets', 'holybox', 'holey_box.step')\n",
    "holybox2_path = os.path.join(repbrep_path, 'datasets', 'holybox', 'holey_box_angled.step')\n",
    "\n",
    "source_part_path = holybox1_path\n",
    "target_part_path = holybox2_path\n",
    "\n",
    "weighted = True\n",
    "num_iters = 1000\n",
    "reproject = False\n",
    "\n",
    "\n",
    "sampler = SamplePoints(6*1000)\n",
    "\n",
    "\n",
    "ipart = ImplicitPart(source_part_path, 10, 100, True)\n",
    "data = implicit_part_to_data(ipart, 10).cuda()\n",
    "data.face_surfaces = data.face_surfaces.float()\n",
    "data.face_surfaces.requires_grad = True\n",
    "data.edge_curves = data.edge_curves.float()\n",
    "data.edge_curves.requires_grad = True\n",
    "data.vertex_positions.requires_grad = True\n",
    "data.face_surface_parameters.requires_grad = True\n",
    "data.edge_curve_parameters.requires_grad = True\n",
    "\n",
    "chamferDist = WeightedChamferDistance(sharpness=2) if weighted else ChamferDistance()\n",
    "opts = PartOptions()\n",
    "opts.normalize = False\n",
    "target_part = Part(target_part_path, opts)\n",
    "target_V =  ipart.scale*(torch.from_numpy(target_part.mesh.V) + ipart.translation)\n",
    "target_F = torch.from_numpy(target_part.mesh.F).T.long()\n",
    "target_data = TGData(pos=target_V, face=target_F)\n",
    "sampler(target_data)\n",
    "target_pc = target_data.pos\n",
    "target = target_pc.unsqueeze(0).float().cuda()\n",
    "\n",
    "model = BRepFaceAutoencoder(64,1024,4)\n",
    "ckpt = torch.load(model_checkpoint_path)\n",
    "model.load_state_dict(ckpt['state_dict'])\n",
    "\n",
    "n_faces = len(ipart.face_surfaces)\n",
    "N = 50\n",
    "line = torch.linspace(-0.1,1.1,N)\n",
    "grid = torch.cartesian_prod(line, line)\n",
    "grids = grid.repeat(n_faces,1)\n",
    "indices = torch.arange(n_faces).repeat_interleave(N*N, dim=0)\n",
    "\n",
    "\n",
    "model = model.cuda()\n",
    "grids = grids.cuda()\n",
    "indices = indices.cuda()\n",
    "\n",
    "opt = torch.optim.SGD(\n",
    "    [\n",
    "        data.face_surfaces,\n",
    "        data.edge_curves,\n",
    "        data.edge_curve_parameters,\n",
    "        data.vertex_positions,\n",
    "        data.face_surface_parameters\n",
    "    ], \n",
    "    lr=0.0005, \n",
    "    momentum=0.3)\n",
    "\n",
    "losses = []\n",
    "predictions = []\n",
    "radii = []\n",
    "\n",
    "for iter in tqdm(range(num_iters)):\n",
    "    opt.zero_grad()\n",
    "    pred = model(data, grids, indices)\n",
    "    pred_xyz = pred[:,:3].unsqueeze(0).float()\n",
    "    pred_m = pred[:,3].unsqueeze(0).float()\n",
    "    loss = chamferDist(pred.unsqueeze(0).float(), target) if weighted else chamferDist(pred_xyz, target) + chamferDist(target, pred_xyz)\n",
    "    loss.backward()\n",
    "    opt.step()\n",
    "    # Idea - reproject to valid params each time\n",
    "    if reproject:\n",
    "        with torch.no_grad():\n",
    "            z = data.face_surface_parameters[:,3:6]\n",
    "            x = data.face_surface_parameters[:,6:9]\n",
    "            zss = (z**2).sum(dim=1)\n",
    "            zss[zss == 0.0] = 1.0\n",
    "            zn = torch.sqrt(zss)\n",
    "            z = (z.T / zn).T\n",
    "            z0 = z[:,0]\n",
    "            z1 = z[:,1]\n",
    "            z2 = z[:,2]\n",
    "            x0 = x[:,0]\n",
    "            x1 = x[:,1]\n",
    "            x2 = -(x0*z0 + x1*z1)/z2\n",
    "            x[:,0] = x0\n",
    "            x[:,1] = x1\n",
    "            x[:,2] = x2\n",
    "            xss = (x**2).sum(dim=1)\n",
    "            xss[xss == 0.0] = 1.0\n",
    "            xn = torch.sqrt(xss)\n",
    "            x = (x.T / xn).T\n",
    "            data.face_surface_parameters[:,3:6] = z\n",
    "            data.face_surface_parameters[:,6:9] = x\n",
    "            data.face_surface_parameters[0,9] = torch.abs(data.face_surface_parameters[0,9])\n",
    "    losses.append(loss.detach().item())\n",
    "    predictions.append((pred_xyz.detach().cpu().numpy(), pred_m.detach().cpu().numpy()))\n",
    "    radii.append(data.face_surface_parameters[0,9].detach().cpu().item())\n",
    "    #print(loss)\n",
    "plt.plot(losses)\n",
    "plt.figure()\n",
    "plt.plot(radii)\n",
    "i = 0\n",
    "plot1 = mp.plot(\n",
    "    predictions[i][0][0,:,:],\n",
    "    c=predictions[i][1][0,:],\n",
    "    shading={'point_size':0.1},\n",
    "    return_plot = True)\n",
    "plot1.add_points(target_pc.numpy(), shading={'point_size':0.1, 'point_color':'red'})\n",
    "\n",
    "i = num_iters - 1\n",
    "plot2 =mp.plot(\n",
    "    predictions[i][0][0,:,:],\n",
    "    c=predictions[i][1][0,:],\n",
    "    shading={'point_size':0.1},\n",
    "    return_plot=True)\n",
    "plot2.add_points(target_pc.numpy(), shading={'point_size':0.1, 'point_color':'red'})\n",
    "\n",
    "i = num_iters - 1\n",
    "sdf = predictions[i][1][0,:]\n",
    "xyz = predictions[i][0][0,sdf<=0, :]\n",
    "plot3 =mp.plot(\n",
    "    xyz,\n",
    "    shading={'point_size':0.1, 'point_color':'blue'},\n",
    "    return_plot=True)\n",
    "plot2.add_points(target_pc.numpy(), shading={'point_size':0.1, 'point_color':'red'})"
   ]
  },
  {
   "cell_type": "code",
   "execution_count": 6,
   "metadata": {},
   "outputs": [
    {
     "data": {
      "text/plain": [
       "0.005"
      ]
     },
     "execution_count": 6,
     "metadata": {},
     "output_type": "execute_result"
    }
   ],
   "source": [
    "ipart.face_surface_parameters[0][9]"
   ]
  },
  {
   "cell_type": "code",
   "execution_count": 9,
   "metadata": {},
   "outputs": [],
   "source": [
    "#ipart = ImplicitPart(source_part_path, 10, 100, True)\n",
    "#data = implicit_part_to_data(ipart, 10).cuda()\n",
    "d = data.detach().cpu()"
   ]
  },
  {
   "cell_type": "code",
   "execution_count": 10,
   "metadata": {},
   "outputs": [],
   "source": [
    "surfs = d.face_surfaces.argmax(dim=1)"
   ]
  },
  {
   "cell_type": "code",
   "execution_count": 18,
   "metadata": {},
   "outputs": [
    {
     "data": {
      "text/plain": [
       "array([-1,  1,  1,  1,  1,  1, -1], dtype=int32)"
      ]
     },
     "execution_count": 18,
     "metadata": {},
     "output_type": "execute_result"
    }
   ],
   "source": [
    "ipart.face_surface_flipped*2 - 1"
   ]
  },
  {
   "cell_type": "code",
   "execution_count": 19,
   "metadata": {},
   "outputs": [
    {
     "name": "stdout",
     "output_type": "stream",
     "text": [
      "Cylinder(origin=(0.3333, -0.2667, 0.0000), axis=(-0.0000, -1.0000, -0.0000), radius=0.1333)\n",
      "\n",
      "1 Plane( point=(1.0000, -0.2667, 0.6667), normal=(1.0000, 0.0000, 0.0000))\n",
      "\n",
      "2 Plane( point=(-1.0000, -0.2667, 0.6667), normal=(0.0000, 0.0000, 1.0000))\n",
      "\n",
      "3 Plane( point=(-1.0000, -0.2667, -0.6667), normal=(-1.0000, 0.0000, 0.0000))\n",
      "\n",
      "4 Plane( point=(1.0000, -0.2667, -0.6667), normal=(0.0000, 0.0000, -1.0000))\n",
      "\n",
      "5 Plane( point=(0.0000, 0.2667, 0.0000), normal=(0.0000, 1.0000, 0.0000))\n",
      "\n",
      "6 Plane( point=(0.0000, -0.2667, 0.0000), normal=(-0.0000, -1.0000, -0.0000))\n",
      "\n"
     ]
    }
   ],
   "source": [
    "plane_num = 1\n",
    "for i,p in enumerate(ipart.face_surface_parameters):\n",
    "    p_x, p_y, p_z = p[:3].tolist()\n",
    "    flip = (ipart.face_surface_flipped*2 -1)[i]\n",
    "    n_x, n_y, n_z = (flip*p[3:6]).tolist()\n",
    "    r = p[9].item()\n",
    "    if surfs[i] == 0:\n",
    "        print(f'{plane_num} Plane( point=({p_x:.4f}, {p_y:.4f}, {p_z:.4f}), normal=({n_x:.4f}, {n_y:.4f}, {n_z:.4f}))\\n')\n",
    "        plane_num += 1\n",
    "    else:\n",
    "        print(f'Cylinder(origin=({p_x:.4f}, {p_y:.4f}, {p_z:.4f}), axis=({n_x:.4f}, {n_y:.4f}, {n_z:.4f}), radius={(r*ipart.scale):.4f})\\n')"
   ]
  },
  {
   "cell_type": "code",
   "execution_count": 20,
   "metadata": {},
   "outputs": [
    {
     "name": "stdout",
     "output_type": "stream",
     "text": [
      "Cylinder(origin=(0.2714, -0.2268, -0.0188), axis=(-0.0692, -0.7785, -0.0030), radius=2.0783)\n",
      "\n",
      "1 Plane( point=(1.0229, -0.2831, 0.6768), normal=(0.9856, 0.0277, 0.0150))\n",
      "\n",
      "2 Plane( point=(-1.0152, -0.1779, 0.6531), normal=(-0.1798, 0.1001, 1.0728))\n",
      "\n",
      "3 Plane( point=(-1.0542, -0.1105, -0.6715), normal=(-1.0506, 0.1304, -0.0469))\n",
      "\n",
      "4 Plane( point=(0.9891, -0.2920, -0.6922), normal=(-0.0063, -0.1670, -1.0672))\n",
      "\n",
      "5 Plane( point=(-0.0128, 0.3350, -0.0200), normal=(-0.0726, 1.2209, -0.1261))\n",
      "\n",
      "6 Plane( point=(-0.0245, -0.2381, -0.0076), normal=(-0.0345, -1.2262, -0.0539))\n",
      "\n"
     ]
    }
   ],
   "source": [
    "plane_num = 1\n",
    "for i,p in enumerate(data.face_surface_parameters):\n",
    "    p_x, p_y, p_z = p[:3].tolist()\n",
    "    flip = (ipart.face_surface_flipped*2 -1)[i]\n",
    "    n_x, n_y, n_z = (flip*p[3:6]).tolist()\n",
    "    r = p[9].item()\n",
    "    if surfs[i] == 0:\n",
    "        print(f'{plane_num} Plane( point=({p_x:.4f}, {p_y:.4f}, {p_z:.4f}), normal=({n_x:.4f}, {n_y:.4f}, {n_z:.4f}))\\n')\n",
    "        plane_num += 1\n",
    "    else:\n",
    "        print(f'Cylinder(origin=({p_x:.4f}, {p_y:.4f}, {p_z:.4f}), axis=({n_x:.4f}, {n_y:.4f}, {n_z:.4f}), radius={(r*ipart.scale):.4f})\\n')"
   ]
  },
  {
   "cell_type": "code",
   "execution_count": null,
   "metadata": {},
   "outputs": [],
   "source": []
  },
  {
   "cell_type": "code",
   "execution_count": 28,
   "metadata": {},
   "outputs": [],
   "source": [
    "import math\n",
    "import OCC.Core.BRepBuilderAPI as BRepBuilderAPI\n",
    "import OCC.Core.Geom as Geom\n",
    "from OCC.Core.GeomAPI import GeomAPI_IntSS, GeomAPI_ExtremaCurveCurve, GeomAPI_ProjectPointOnCurve\n",
    "from OCC.Core.Extrema import Extrema_POnCurv\n",
    "from OCC.Core.gp import gp_Pnt, gp_Lin, gp_Ax1, gp_Dir, gp_Elips, gp_Ax2, gp_Ax3\n",
    "from OCC.Core.BRepBuilderAPI import (\n",
    "    BRepBuilderAPI_MakeEdge, \n",
    "    BRepBuilderAPI_MakeVertex, \n",
    "    BRepBuilderAPI_MakeFace,\n",
    "    BRepBuilderAPI_MakeWire,\n",
    "    BRepBuilderAPI_MakeShell,\n",
    "    BRepBuilderAPI_MakeSolid   \n",
    ")\n",
    "from OCC.Core.BRep import BRep_Builder\n",
    "from OCC.Core.TColgp import TColgp_Array1OfPnt\n",
    "from OCC.Core.Geom import Geom_BezierCurve\n",
    "from OCC.Display.WebGl.jupyter_renderer import JupyterRenderer\n",
    "from OCC.Core.TopoDS import TopoDS_Shell, TopoDS_Face, TopoDS_Solid\n",
    "\n",
    "from OCC.Core.STEPControl import STEPControl_Writer, STEPControl_AsIs\n",
    "from OCC.Core.IFSelect import IFSelect_RetDone"
   ]
  },
  {
   "cell_type": "code",
   "execution_count": 29,
   "metadata": {},
   "outputs": [
    {
     "ename": "RuntimeError",
     "evalue": "StdFail_NotDoneBRep_API: command not done raised from method Edge of class BRepBuilderAPI_MakeEdge",
     "output_type": "error",
     "traceback": [
      "\u001b[0;31m---------------------------------------------------------------------------\u001b[0m",
      "\u001b[0;31mRuntimeError\u001b[0m                              Traceback (most recent call last)",
      "\u001b[1;32m/home/ben/Documents/research/repbrep/hybridbrep/notebooks/gradient_cube.ipynb Cell 11\u001b[0m in \u001b[0;36m<cell line: 119>\u001b[0;34m()\u001b[0m\n\u001b[1;32m    <a href='vscode-notebook-cell://ssh-remote%2Bdegravity.net/home/ben/Documents/research/repbrep/hybridbrep/notebooks/gradient_cube.ipynb#X14sdnNjb2RlLXJlbW90ZQ%3D%3D?line=114'>115</a>\u001b[0m     \u001b[39mreturn\u001b[39;00m edges,vertices\n\u001b[1;32m    <a href='vscode-notebook-cell://ssh-remote%2Bdegravity.net/home/ben/Documents/research/repbrep/hybridbrep/notebooks/gradient_cube.ipynb#X14sdnNjb2RlLXJlbW90ZQ%3D%3D?line=116'>117</a>\u001b[0m \u001b[39m#data\u001b[39;00m\n\u001b[1;32m    <a href='vscode-notebook-cell://ssh-remote%2Bdegravity.net/home/ben/Documents/research/repbrep/hybridbrep/notebooks/gradient_cube.ipynb#X14sdnNjb2RlLXJlbW90ZQ%3D%3D?line=117'>118</a>\u001b[0m \u001b[39m#data = implicit_part_to_data(ipart, 10)\u001b[39;00m\n\u001b[0;32m--> <a href='vscode-notebook-cell://ssh-remote%2Bdegravity.net/home/ben/Documents/research/repbrep/hybridbrep/notebooks/gradient_cube.ipynb#X14sdnNjb2RlLXJlbW90ZQ%3D%3D?line=118'>119</a>\u001b[0m data_to_brep(data)\n",
      "\u001b[1;32m/home/ben/Documents/research/repbrep/hybridbrep/notebooks/gradient_cube.ipynb Cell 11\u001b[0m in \u001b[0;36mdata_to_brep\u001b[0;34m(data, reconstruct_geo)\u001b[0m\n\u001b[1;32m    <a href='vscode-notebook-cell://ssh-remote%2Bdegravity.net/home/ben/Documents/research/repbrep/hybridbrep/notebooks/gradient_cube.ipynb#X14sdnNjb2RlLXJlbW90ZQ%3D%3D?line=107'>108</a>\u001b[0m     v2 \u001b[39m=\u001b[39m vertices[v2i]\n\u001b[1;32m    <a href='vscode-notebook-cell://ssh-remote%2Bdegravity.net/home/ben/Documents/research/repbrep/hybridbrep/notebooks/gradient_cube.ipynb#X14sdnNjb2RlLXJlbW90ZQ%3D%3D?line=108'>109</a>\u001b[0m     build_edge \u001b[39m=\u001b[39m BRepBuilderAPI_MakeEdge(curves[i], v1, v2)\n\u001b[0;32m--> <a href='vscode-notebook-cell://ssh-remote%2Bdegravity.net/home/ben/Documents/research/repbrep/hybridbrep/notebooks/gradient_cube.ipynb#X14sdnNjb2RlLXJlbW90ZQ%3D%3D?line=109'>110</a>\u001b[0m     edge \u001b[39m=\u001b[39m build_edge\u001b[39m.\u001b[39;49mEdge()\n\u001b[1;32m    <a href='vscode-notebook-cell://ssh-remote%2Bdegravity.net/home/ben/Documents/research/repbrep/hybridbrep/notebooks/gradient_cube.ipynb#X14sdnNjb2RlLXJlbW90ZQ%3D%3D?line=110'>111</a>\u001b[0m \u001b[39mif\u001b[39;00m flipped:\n\u001b[1;32m    <a href='vscode-notebook-cell://ssh-remote%2Bdegravity.net/home/ben/Documents/research/repbrep/hybridbrep/notebooks/gradient_cube.ipynb#X14sdnNjb2RlLXJlbW90ZQ%3D%3D?line=111'>112</a>\u001b[0m     edge\u001b[39m.\u001b[39mReverse()\n",
      "File \u001b[0;32m~/anaconda3/envs/hybridbrep/lib/python3.9/site-packages/OCC/Core/BRepBuilderAPI.py:2105\u001b[0m, in \u001b[0;36mBRepBuilderAPI_MakeEdge.Edge\u001b[0;34m(self, *args)\u001b[0m\n\u001b[1;32m   2096\u001b[0m \u001b[39mdef\u001b[39;00m \u001b[39mEdge\u001b[39m(\u001b[39mself\u001b[39m, \u001b[39m*\u001b[39margs) \u001b[39m-\u001b[39m\u001b[39m>\u001b[39m \u001b[39m\"\u001b[39m\u001b[39mTopoDS_Edge const\u001b[39m\u001b[39m\"\u001b[39m:\n\u001b[1;32m   2097\u001b[0m     \u001b[39mr\u001b[39m\u001b[39m\"\"\"\u001b[39;00m\n\u001b[1;32m   2098\u001b[0m \u001b[39m    Returns the constructed edge. exceptions stdfail_notdone if the edge is not built.\u001b[39;00m\n\u001b[1;32m   2099\u001b[0m \n\u001b[0;32m   (...)\u001b[0m\n\u001b[1;32m   2103\u001b[0m \n\u001b[1;32m   2104\u001b[0m \u001b[39m    \"\"\"\u001b[39;00m\n\u001b[0;32m-> 2105\u001b[0m     \u001b[39mreturn\u001b[39;00m _BRepBuilderAPI\u001b[39m.\u001b[39;49mBRepBuilderAPI_MakeEdge_Edge(\u001b[39mself\u001b[39;49m, \u001b[39m*\u001b[39;49margs)\n",
      "\u001b[0;31mRuntimeError\u001b[0m: StdFail_NotDoneBRep_API: command not done raised from method Edge of class BRepBuilderAPI_MakeEdge"
     ]
    }
   ],
   "source": [
    "from OCC.Core.gp import (\n",
    "    gp_Ax1,\n",
    "    gp_Ax3,\n",
    "    gp_Dir,\n",
    "    gp_Pnt\n",
    ")\n",
    "from OCC.Core.Geom import (\n",
    "    Geom_Plane,\n",
    "    Geom_CylindricalSurface,\n",
    "    Geom_ConicalSurface,\n",
    "    Geom_SphericalSurface,\n",
    "    Geom_ToroidalSurface,\n",
    "    Geom_Line,\n",
    "    Geom_Circle,\n",
    "    Geom_Ellipse\n",
    ")\n",
    "\n",
    "from OCC.Core.BRep import (\n",
    "    BRep_Builder\n",
    ")\n",
    "\n",
    "from OCC.Core.BRepBuilderAPI import (\n",
    "    BRepBuilderAPI_MakeVertex,\n",
    "    BRepBuilderAPI_MakeEdge,\n",
    "    BRepBuilderAPI_MakeWire,\n",
    "    BRepBuilderAPI_MakeFace\n",
    ")\n",
    "\n",
    "def make_surface(surface_type, params):\n",
    "\n",
    "    cs = gp_Ax3(gp_Pnt(*params[:3]), gp_Dir(*params[3:6]), gp_Dir(*params[6:9]))\n",
    "\n",
    "    radius       = params[9]\n",
    "    major_radius = params[9]\n",
    "    minor_radius = params[10]\n",
    "    semi_angle   = params[10]\n",
    "\n",
    "    if surface_type == 0:\n",
    "        return Geom_Plane(cs)\n",
    "    elif surface_type == 1:\n",
    "        return Geom_CylindricalSurface(cs, radius)\n",
    "    elif surface_type == 2:\n",
    "        return Geom_ConicalSurface(cs, semi_angle, radius)\n",
    "    elif surface_type == 3:\n",
    "        return Geom_SphericalSurface(cs, radius)\n",
    "    elif surface_type == 4:\n",
    "        return Geom_ToroidalSurface(cs, major_radius, minor_radius)  \n",
    "\n",
    "def make_curve(curve_type, params):\n",
    "\n",
    "    loc   = gp_Pnt(*params[:3])\n",
    "    z_dir = gp_Dir(*params[3:6])\n",
    "    x_dir = gp_Dir(*params[6:9])\n",
    "    cs = gp_Ax2(loc, z_dir, x_dir)\n",
    "    radius = params[9]\n",
    "    minor_radius = params[10]\n",
    "\n",
    "    if curve_type == 0:\n",
    "        return Geom_Line(gp_Ax1(loc, z_dir))\n",
    "    elif curve_type == 1:\n",
    "        return Geom_Circle(cs, radius)\n",
    "    elif curve_type == 2:\n",
    "        return Geom_Ellipse(cs, radius, minor_radius)\n",
    "\n",
    "def reconstruct_geo(data, surfaces):\n",
    "    return None, None # curves and points\n",
    "\n",
    "def data_to_brep(data, reconstruct_geo=False):\n",
    "    data = data.detach().cpu() # Ensure we have everything on the CPU without gradients\n",
    "    # Create Geometry\n",
    "    surfaces = [\n",
    "        make_surface(t, data.face_surface_parameters[i].tolist()) \n",
    "        for i,t in enumerate(data.face_surfaces.argmax(dim=1))\n",
    "        ]\n",
    "    curves = [\n",
    "        make_curve(t, data.edge_curve_parameters[i].tolist()) \n",
    "        for i,t in enumerate(data.edge_curves.argmax(dim=1))\n",
    "        ]\n",
    "    points = [gp_Pnt(*v.tolist()) for v in data.vertex_positions]\n",
    "\n",
    "    # Now Construct the geometry bottom up\n",
    "    vertices = [BRepBuilderAPI_MakeVertex(p).Vertex() for p in points]\n",
    "    edge_vertices = {}\n",
    "    for i,(e,v) in enumerate(data.edge_to_vertex.T):\n",
    "        e = e.item()\n",
    "        v = v.item()\n",
    "        is_start = data.edge_to_vertex_is_start[i].item()\n",
    "        edge_vertices[e] = edge_vertices.get(e,[]) + [(v,is_start)]\n",
    "    edges = []\n",
    "    for i in range(len(data.edge_curve_flipped)):\n",
    "        flipped = data.edge_curve_flipped[i].item()\n",
    "        verts = edge_vertices.get(i,[])\n",
    "        if len(verts) == 0:\n",
    "            edge = BRepBuilderAPI_MakeEdge(curves[i]).Edge()\n",
    "            pass\n",
    "        elif len(verts) == 1:\n",
    "            edge = BRepBuilderAPI_MakeEdge(\n",
    "                curves[i], \n",
    "                vertices[verts[0][0]], \n",
    "                vertices[verts[0][0]]).Edge()\n",
    "        else:\n",
    "            v1i,v1s = verts[0]\n",
    "            v2i,v2s = verts[1]\n",
    "            if flipped or v2s:\n",
    "                v1i,v1s = verts[1]\n",
    "                v2i,v2s = verts[0]\n",
    "            v1 = vertices[v1i]\n",
    "            v2 = vertices[v2i]\n",
    "            build_edge = BRepBuilderAPI_MakeEdge(curves[i], v1, v2)\n",
    "            edge = build_edge.Edge()\n",
    "        if flipped:\n",
    "            edge.Reverse()\n",
    "        edges.append(edge)\n",
    "\n",
    "    return edges,vertices\n",
    "\n",
    "#data\n",
    "#data = implicit_part_to_data(ipart, 10)\n",
    "data_to_brep(data)"
   ]
  },
  {
   "cell_type": "code",
   "execution_count": null,
   "metadata": {},
   "outputs": [],
   "source": [
    "torch.save(data.detach().cpu(),'optimized_angled_cube.pt')"
   ]
  },
  {
   "cell_type": "code",
   "execution_count": 30,
   "metadata": {},
   "outputs": [
    {
     "ename": "RuntimeError",
     "evalue": "Standard_OutOfRangeNCollection_Sequence::Value raised from method Line of class GeomAPI_IntSS",
     "output_type": "error",
     "traceback": [
      "\u001b[0;31m---------------------------------------------------------------------------\u001b[0m",
      "\u001b[0;31mRuntimeError\u001b[0m                              Traceback (most recent call last)",
      "\u001b[1;32m/home/ben/Documents/research/repbrep/hybridbrep/notebooks/gradient_cube.ipynb Cell 13\u001b[0m in \u001b[0;36m<cell line: 142>\u001b[0;34m()\u001b[0m\n\u001b[1;32m    <a href='vscode-notebook-cell://ssh-remote%2Bdegravity.net/home/ben/Documents/research/repbrep/hybridbrep/notebooks/gradient_cube.ipynb#X16sdnNjb2RlLXJlbW90ZQ%3D%3D?line=137'>138</a>\u001b[0m     \u001b[39mreturn\u001b[39;00m my_renderer\u001b[39m.\u001b[39mDisplay()\n\u001b[1;32m    <a href='vscode-notebook-cell://ssh-remote%2Bdegravity.net/home/ben/Documents/research/repbrep/hybridbrep/notebooks/gradient_cube.ipynb#X16sdnNjb2RlLXJlbW90ZQ%3D%3D?line=139'>140</a>\u001b[0m data \u001b[39m=\u001b[39m implicit_part_to_data(ipart, \u001b[39m10\u001b[39m)\n\u001b[0;32m--> <a href='vscode-notebook-cell://ssh-remote%2Bdegravity.net/home/ben/Documents/research/repbrep/hybridbrep/notebooks/gradient_cube.ipynb#X16sdnNjb2RlLXJlbW90ZQ%3D%3D?line=141'>142</a>\u001b[0m solid, shell, faces, wires, edges, vertices \u001b[39m=\u001b[39m recover_brep(data)\n",
      "\u001b[1;32m/home/ben/Documents/research/repbrep/hybridbrep/notebooks/gradient_cube.ipynb Cell 13\u001b[0m in \u001b[0;36mrecover_brep\u001b[0;34m(data)\u001b[0m\n\u001b[1;32m     <a href='vscode-notebook-cell://ssh-remote%2Bdegravity.net/home/ben/Documents/research/repbrep/hybridbrep/notebooks/gradient_cube.ipynb#X16sdnNjb2RlLXJlbW90ZQ%3D%3D?line=40'>41</a>\u001b[0m     intersection \u001b[39m=\u001b[39m GeomAPI_IntSS(surfaces[f1], surfaces[f2], \u001b[39m10e-16\u001b[39m)\n\u001b[1;32m     <a href='vscode-notebook-cell://ssh-remote%2Bdegravity.net/home/ben/Documents/research/repbrep/hybridbrep/notebooks/gradient_cube.ipynb#X16sdnNjb2RlLXJlbW90ZQ%3D%3D?line=41'>42</a>\u001b[0m     \u001b[39massert\u001b[39;00m(intersection\u001b[39m.\u001b[39mIsDone())\n\u001b[0;32m---> <a href='vscode-notebook-cell://ssh-remote%2Bdegravity.net/home/ben/Documents/research/repbrep/hybridbrep/notebooks/gradient_cube.ipynb#X16sdnNjb2RlLXJlbW90ZQ%3D%3D?line=42'>43</a>\u001b[0m     curves[edge] \u001b[39m=\u001b[39m intersection\u001b[39m.\u001b[39;49mLine(\u001b[39m1\u001b[39;49m)\n\u001b[1;32m     <a href='vscode-notebook-cell://ssh-remote%2Bdegravity.net/home/ben/Documents/research/repbrep/hybridbrep/notebooks/gradient_cube.ipynb#X16sdnNjb2RlLXJlbW90ZQ%3D%3D?line=43'>44</a>\u001b[0m     curve_types[edge] \u001b[39m=\u001b[39m curves[edge]\u001b[39m.\u001b[39mDynamicType()\u001b[39m.\u001b[39mName()\n\u001b[1;32m     <a href='vscode-notebook-cell://ssh-remote%2Bdegravity.net/home/ben/Documents/research/repbrep/hybridbrep/notebooks/gradient_cube.ipynb#X16sdnNjb2RlLXJlbW90ZQ%3D%3D?line=44'>45</a>\u001b[0m data\u001b[39m.\u001b[39medge_to_vertex\n",
      "File \u001b[0;32m~/anaconda3/envs/hybridbrep/lib/python3.9/site-packages/OCC/Core/GeomAPI.py:1125\u001b[0m, in \u001b[0;36mGeomAPI_IntSS.Line\u001b[0;34m(self, *args)\u001b[0m\n\u001b[1;32m   1112\u001b[0m \u001b[39mdef\u001b[39;00m \u001b[39mLine\u001b[39m(\u001b[39mself\u001b[39m, \u001b[39m*\u001b[39margs) \u001b[39m-\u001b[39m\u001b[39m>\u001b[39m \u001b[39m\"\u001b[39m\u001b[39mopencascade::handle< Geom_Curve > const &\u001b[39m\u001b[39m\"\u001b[39m:\n\u001b[1;32m   1113\u001b[0m     \u001b[39mr\u001b[39m\u001b[39m\"\"\"\u001b[39;00m\n\u001b[1;32m   1114\u001b[0m \u001b[39m    Returns the computed intersection curve of index index. exceptions stdfail_notdone if the computation fails. standard_outofrange if index is out of range [1, nblines] where nblines is the number of computed intersection curves.\u001b[39;00m\n\u001b[1;32m   1115\u001b[0m \n\u001b[0;32m   (...)\u001b[0m\n\u001b[1;32m   1123\u001b[0m \n\u001b[1;32m   1124\u001b[0m \u001b[39m    \"\"\"\u001b[39;00m\n\u001b[0;32m-> 1125\u001b[0m     \u001b[39mreturn\u001b[39;00m _GeomAPI\u001b[39m.\u001b[39;49mGeomAPI_IntSS_Line(\u001b[39mself\u001b[39;49m, \u001b[39m*\u001b[39;49margs)\n",
      "\u001b[0;31mRuntimeError\u001b[0m: Standard_OutOfRangeNCollection_Sequence::Value raised from method Line of class GeomAPI_IntSS"
     ]
    }
   ],
   "source": [
    "def recover_brep(data):\n",
    "    data = data.detach().cpu()\n",
    "    surface_types = data.face_surfaces.argmax(dim=1)\n",
    "    def make_plane(params):\n",
    "        return Geom.Geom_Plane(gp_Pnt(*params[:3]), gp_Dir(*params[3:6]))\n",
    "    def make_cylinder(params):\n",
    "        cs = gp_Ax3(gp_Pnt(*params[:3]), gp_Dir(*params[3:6]), gp_Dir(*params[6:9]))\n",
    "        radius = params[9]\n",
    "        return Geom.Geom_CylindricalSurface(cs, abs(radius))\n",
    "    def make_geom(surface_type, params):\n",
    "        if surface_type == 0:\n",
    "            return make_plane(params)\n",
    "        elif surface_type == 1:\n",
    "            return make_cylinder(params)\n",
    "        elif surface_type == 2:\n",
    "            return make_cone(params)\n",
    "        elif surface_type == 3:\n",
    "            return make_sphere(params)\n",
    "        elif surface_type == 4:\n",
    "            return make_torus(params)\n",
    "    surfaces = [make_geom(surface_types[i].item(), data.face_surface_parameters[i].tolist())\n",
    "        for i in range(len(surface_types))\n",
    "    ]\n",
    "    # find and make the edges using surface intersections\n",
    "\n",
    "    loop_faces = {}\n",
    "    for i in range(data.face_to_loop.shape[1]):\n",
    "        face = data.face_to_loop[0][i].item()\n",
    "        loop = data.face_to_loop[1][i].item()\n",
    "        loop_faces[loop] = face\n",
    "\n",
    "    edge_faces = {}\n",
    "    for i in range(data.loop_to_edge.shape[1]):\n",
    "        loop = data.loop_to_edge[0][i].item()\n",
    "        edge = data.loop_to_edge[1][i].item()\n",
    "        edge_faces[edge] = edge_faces.get(edge,[]) + [loop_faces[loop]]\n",
    "\n",
    "    curves = {}\n",
    "    curve_types = {}\n",
    "    for edge,[f1,f2] in edge_faces.items():\n",
    "        intersection = GeomAPI_IntSS(surfaces[f1], surfaces[f2], 10e-16)\n",
    "        assert(intersection.IsDone())\n",
    "        curves[edge] = intersection.Line(1)\n",
    "        curve_types[edge] = curves[edge].DynamicType().Name()\n",
    "    data.edge_to_vertex\n",
    "    vertex_edges = {}\n",
    "    edge_vertices = {}\n",
    "    edge_vertex_is_start = {}\n",
    "    for i in range(data.edge_to_vertex.shape[1]):\n",
    "        edge = data.edge_to_vertex[0][i].item()\n",
    "        vertex = data.edge_to_vertex[1][i].item()\n",
    "        vertex_edges[vertex] = vertex_edges.get(vertex,[]) + [edge]\n",
    "        edge_vertices[edge] = edge_vertices.get(edge,[]) + [vertex]\n",
    "        edge_vertex_is_start[edge] = edge_vertex_is_start.get(edge,[]) + [data.edge_to_vertex_is_start[i]]\n",
    "    points = {}\n",
    "    for v,cs in vertex_edges.items():\n",
    "        if len(cs) < 2:\n",
    "            continue\n",
    "        extrema = GeomAPI_ExtremaCurveCurve(curves[cs[0]],curves[cs[1]])\n",
    "        ext = extrema.Extrema()\n",
    "        p1 = Extrema_POnCurv()\n",
    "        p2 = Extrema_POnCurv()\n",
    "        ext.Points(1,p1,p2)\n",
    "        points[v] = p1.Value()\n",
    "    vertices = {}\n",
    "    for k,v in points.items():\n",
    "        vertices[k] = BRepBuilderAPI_MakeVertex(v).Vertex()\n",
    "    edges = {}\n",
    "    for k,v in curves.items():\n",
    "        if edge_vertex_is_start[k][0]:\n",
    "            edges[k] = BRepBuilderAPI_MakeEdge(v,vertices[edge_vertices[k][0]], vertices[edge_vertices[k][1]]).Edge()\n",
    "        else:\n",
    "            edges[k] = BRepBuilderAPI_MakeEdge(v,vertices[edge_vertices[k][1]], vertices[edge_vertices[k][0]]).Edge()\n",
    "    wire_edges = {}\n",
    "    wire_edge_is_flipped = {}\n",
    "    for i in range(data.loop_to_edge.shape[1]):\n",
    "        loop = data.loop_to_edge[0][i].item()\n",
    "        edge = data.loop_to_edge[1][i].item()\n",
    "        wire_edges[loop] = wire_edges.get(loop,[]) + [edge]\n",
    "        wire_edge_is_flipped[loop] = wire_edge_is_flipped.get(loop, []) + [data.loop_to_edge_flipped[i]]\n",
    "    wires = {}\n",
    "    for w, es in wire_edges.items():\n",
    "        \n",
    "        # data.loop_to_edge_flipped\n",
    "\n",
    "        # Figure out a valid ordering for the edges in a loop.\n",
    "        # I don't know if the order of vertices given to the make-edge\n",
    "        # call does anything to determine which is start and which is end.\n",
    "        # In the worst case, I can look at the parameters of the extrema\n",
    "        # to choose which one to make the start, and which one to make the end,\n",
    "        # then reverse things as necessary. The trick will be getting the orientations\n",
    "        # to align with the original part versions.\n",
    "\n",
    "        #wire = BRepBuilderAPI_MakeWire(*[edges[e] for e in es])\n",
    "        wire = BRepBuilderAPI_MakeWire()\n",
    "        for i,e in enumerate(es):\n",
    "            if wire_edge_is_flipped[w][i]:\n",
    "                wire.Add(edges[e].Reversed())\n",
    "            else:\n",
    "                wire.Add(edges[e])\n",
    "        wires[w] = wire.Wire()\n",
    "    face_loops = {}\n",
    "    for i in range(data.face_to_loop.shape[1]):\n",
    "        face = data.face_to_loop[0][i].item()\n",
    "        loop = data.face_to_loop[1][i].item()\n",
    "        face_loops[face] = face_loops.get(face, []) + [loop]\n",
    "    faces = {}\n",
    "    for k,v in face_loops.items():\n",
    "        f = BRepBuilderAPI_MakeFace()\n",
    "        f.Init(surfaces[k],False,10e-8)\n",
    "        for w in v:\n",
    "            f.Add(wires[w])\n",
    "        f.Add(wires[0])\n",
    "        faces[k] = f.Face()\n",
    "    \n",
    "    builder = BRep_Builder()\n",
    "    shell = TopoDS_Shell()\n",
    "    builder.MakeShell(shell)\n",
    "    for f in faces.values():\n",
    "        builder.Add(shell, f)\n",
    "    solid = TopoDS_Solid()\n",
    "    builder.MakeSolid(solid)\n",
    "    builder.Add(solid, shell)\n",
    "\n",
    "    return solid, shell, faces, wires, edges, vertices\n",
    "\n",
    "def write_step(solid, filename):\n",
    "    # Based On\n",
    "    # https://cpp.hotexamples.com/examples/-/STEPControl_Writer/-/cpp-stepcontrol_writer-class-examples.html\n",
    "    writer = STEPControl_Writer()\n",
    "    status =writer.Transfer(solid, STEPControl_AsIs)\n",
    "    writer.Write(filename)\n",
    "\n",
    "def render_shapes(shapes):\n",
    "    my_renderer = JupyterRenderer()\n",
    "    for shape in shapes:\n",
    "        my_renderer.DisplayShape(shape)\n",
    "    return my_renderer.Display()\n",
    "\n",
    "data = implicit_part_to_data(ipart, 10)\n",
    "\n",
    "solid, shell, faces, wires, edges, vertices = recover_brep(data)\n"
   ]
  },
  {
   "cell_type": "code",
   "execution_count": 31,
   "metadata": {},
   "outputs": [
    {
     "data": {
      "text/plain": [
       "<class 'Geom_CylindricalSurface'>"
      ]
     },
     "execution_count": 31,
     "metadata": {},
     "output_type": "execute_result"
    }
   ],
   "source": [
    "cs = gp_Ax3(gp_Pnt(*[0.,0.,0.]), gp_Dir(*[0.,0.,1.]), gp_Dir(*[1.,0.,0.]))\n",
    "radius = 1\n",
    "Geom.Geom_CylindricalSurface(cs, radius)"
   ]
  },
  {
   "cell_type": "code",
   "execution_count": 32,
   "metadata": {},
   "outputs": [
    {
     "ename": "NameError",
     "evalue": "name 'wires' is not defined",
     "output_type": "error",
     "traceback": [
      "\u001b[0;31m---------------------------------------------------------------------------\u001b[0m",
      "\u001b[0;31mNameError\u001b[0m                                 Traceback (most recent call last)",
      "\u001b[1;32m/home/ben/Documents/research/repbrep/hybridbrep/notebooks/gradient_cube.ipynb Cell 15\u001b[0m in \u001b[0;36m<cell line: 1>\u001b[0;34m()\u001b[0m\n\u001b[0;32m----> <a href='vscode-notebook-cell://ssh-remote%2Bdegravity.net/home/ben/Documents/research/repbrep/hybridbrep/notebooks/gradient_cube.ipynb#X21sdnNjb2RlLXJlbW90ZQ%3D%3D?line=0'>1</a>\u001b[0m render_shapes(wires\u001b[39m.\u001b[39mvalues())\n",
      "\u001b[0;31mNameError\u001b[0m: name 'wires' is not defined"
     ]
    }
   ],
   "source": [
    "render_shapes(wires.values())"
   ]
  },
  {
   "cell_type": "code",
   "execution_count": null,
   "metadata": {},
   "outputs": [],
   "source": []
  },
  {
   "cell_type": "code",
   "execution_count": null,
   "metadata": {},
   "outputs": [],
   "source": []
  },
  {
   "cell_type": "code",
   "execution_count": null,
   "metadata": {},
   "outputs": [],
   "source": [
    "# Output looks like it has some flipped normals - didn't check face orientations"
   ]
  },
  {
   "cell_type": "code",
   "execution_count": null,
   "metadata": {},
   "outputs": [],
   "source": []
  },
  {
   "cell_type": "code",
   "execution_count": null,
   "metadata": {},
   "outputs": [],
   "source": [
    "BRepBuilderAPI_MakeEdge(curves[0]).Edge()"
   ]
  },
  {
   "cell_type": "code",
   "execution_count": null,
   "metadata": {},
   "outputs": [],
   "source": []
  },
  {
   "cell_type": "code",
   "execution_count": null,
   "metadata": {},
   "outputs": [],
   "source": [
    "extrema = GeomAPI_ExtremaCurveCurve(curves[0], curves[1])\n",
    "ext = extrema.Extrema()\n",
    "p1 = OCC.Core.Extrema.Extrema_POnCurv()\n",
    "p2 = OCC.Core.Extrema.Extrema_POnCurv()\n",
    "ext.Points(1,p1,p2)"
   ]
  },
  {
   "cell_type": "code",
   "execution_count": null,
   "metadata": {},
   "outputs": [],
   "source": [
    "extrema = GeomAPI_ExtremaCurveCurve(curves[0],curves[1])\n",
    "ext = extrema.Extrema()\n",
    "p1 = Extrema_POnCurv()\n",
    "p2 = Extrema_POnCurv()\n",
    "ext.Points(1,p1,p2)\n",
    "print(p1.Value().X())"
   ]
  },
  {
   "cell_type": "code",
   "execution_count": null,
   "metadata": {},
   "outputs": [],
   "source": [
    "print(p1.Value().X(), p1.Value().Y(), p1.Value().Z())\n",
    "print(p2.Value().X(), p2.Value().Y(), p2.Value().Z())\n"
   ]
  },
  {
   "cell_type": "code",
   "execution_count": null,
   "metadata": {},
   "outputs": [],
   "source": [
    "plane1 = Geom.Geom_Plane(gp_Pnt(0,0,0), gp_Dir(1,0,0))\n",
    "plane2 = Geom.Geom_Plane(gp_Pnt(0,0,0), gp_Dir(0,0,1))"
   ]
  },
  {
   "cell_type": "code",
   "execution_count": null,
   "metadata": {},
   "outputs": [],
   "source": [
    "torch.tensor([0.2,0.5,0.2]).tolist()"
   ]
  },
  {
   "cell_type": "code",
   "execution_count": null,
   "metadata": {},
   "outputs": [],
   "source": []
  },
  {
   "cell_type": "code",
   "execution_count": null,
   "metadata": {},
   "outputs": [],
   "source": [
    "set(ipart2.edge_curves)"
   ]
  },
  {
   "cell_type": "code",
   "execution_count": null,
   "metadata": {},
   "outputs": [],
   "source": [
    "model = BRepFaceAutoencoder(64,1024,4)\n",
    "ckpt = torch.load(model_checkpoint_path)\n",
    "model.load_state_dict(ckpt['state_dict'])"
   ]
  },
  {
   "cell_type": "code",
   "execution_count": null,
   "metadata": {},
   "outputs": [],
   "source": [
    "model = BRepFaceAutoencoder(64,1024,4)\n",
    "ckpt = torch.load(model_checkpoint_path)\n",
    "model.load_state_dict(ckpt['state_dict'])\n",
    "n_faces = len(ipart2.face_surfaces)\n",
    "N = 50\n",
    "line = torch.linspace(-0.1,1.1,N)\n",
    "grid = torch.cartesian_prod(line, line)\n",
    "grids = grid.repeat(n_faces,1)\n",
    "indices = torch.arange(n_faces).repeat_interleave(N*N, dim=0)"
   ]
  },
  {
   "cell_type": "code",
   "execution_count": null,
   "metadata": {},
   "outputs": [],
   "source": [
    "pred = model(data, grids, indices)"
   ]
  },
  {
   "cell_type": "code",
   "execution_count": null,
   "metadata": {},
   "outputs": [],
   "source": []
  },
  {
   "cell_type": "code",
   "execution_count": null,
   "metadata": {},
   "outputs": [],
   "source": [
    "mp.plot(pred[:,:3].detach().numpy(), c=pred[:,3].detach().numpy(), shading={'point_size':1})"
   ]
  },
  {
   "cell_type": "code",
   "execution_count": null,
   "metadata": {},
   "outputs": [],
   "source": [
    "cube_part = Part(cube_path, opts)"
   ]
  },
  {
   "cell_type": "code",
   "execution_count": null,
   "metadata": {},
   "outputs": [],
   "source": []
  },
  {
   "cell_type": "code",
   "execution_count": null,
   "metadata": {},
   "outputs": [],
   "source": []
  },
  {
   "cell_type": "code",
   "execution_count": null,
   "metadata": {},
   "outputs": [],
   "source": [
    "pred_xyz = pred[:,:3].detach().numpy()\n",
    "pred_m = pred[:,3].detach().numpy()\n"
   ]
  },
  {
   "cell_type": "code",
   "execution_count": null,
   "metadata": {},
   "outputs": [],
   "source": [
    "pred_xyz.max(axis=0)"
   ]
  },
  {
   "cell_type": "code",
   "execution_count": null,
   "metadata": {},
   "outputs": [],
   "source": []
  },
  {
   "cell_type": "code",
   "execution_count": null,
   "metadata": {},
   "outputs": [],
   "source": []
  },
  {
   "cell_type": "code",
   "execution_count": null,
   "metadata": {},
   "outputs": [],
   "source": []
  },
  {
   "cell_type": "code",
   "execution_count": null,
   "metadata": {},
   "outputs": [],
   "source": [
    "opts = PartOptions()\n",
    "opts.normalize = True\n",
    "angled_part = Part(angled_cube_path, opts)\n",
    "angled_V = torch.from_numpy(2*angled_part.mesh.V)\n",
    "angled_F = torch.from_numpy(angled_part.mesh.F).T.long()\n",
    "angled_data = TGData(pos=angled_V, face=angled_F)\n",
    "sampler(angled_data)\n",
    "target_pc = angled_data.pos"
   ]
  },
  {
   "cell_type": "code",
   "execution_count": null,
   "metadata": {},
   "outputs": [],
   "source": []
  },
  {
   "cell_type": "code",
   "execution_count": null,
   "metadata": {},
   "outputs": [],
   "source": [
    "angled_data.pos"
   ]
  },
  {
   "cell_type": "code",
   "execution_count": null,
   "metadata": {},
   "outputs": [],
   "source": [
    "plot = mp.plot(2*angled_part.mesh.V, angled_part.mesh.F, return_plot=True)\n",
    "plot.add_points(target_pc.numpy(), shading={'point_size':0.3, 'point_color':'red'})\n",
    "plot.add_points(pred_xyz, c=pred_m, shading={'point_size':.1})"
   ]
  },
  {
   "cell_type": "code",
   "execution_count": null,
   "metadata": {},
   "outputs": [],
   "source": [
    "angled = ImplicitPart(angled_cube_path, 1000, 5000, True)"
   ]
  },
  {
   "cell_type": "code",
   "execution_count": null,
   "metadata": {},
   "outputs": [],
   "source": [
    "target_pc = np.stack(angled.surface_samples)[:,:,3].reshape((-1,3))"
   ]
  },
  {
   "cell_type": "code",
   "execution_count": null,
   "metadata": {},
   "outputs": [],
   "source": [
    "mp.plot(target_pc, shading={'point_size':.5})"
   ]
  },
  {
   "cell_type": "code",
   "execution_count": null,
   "metadata": {},
   "outputs": [],
   "source": [
    "import torch\n",
    "from chamferdist import ChamferDistance\n",
    "\n",
    "#source_cloud = torch.randn(1, 100, 3).cuda()\n",
    "#target_cloud = torch.randn(1, 50, 3).cuda()\n",
    "\n",
    "\n",
    "\n",
    "dist_forward = chamferDist(source_cloud, target_cloud)\n",
    "print(dist_forward.detach().cpu().item())"
   ]
  },
  {
   "cell_type": "code",
   "execution_count": null,
   "metadata": {},
   "outputs": [],
   "source": []
  },
  {
   "cell_type": "code",
   "execution_count": null,
   "metadata": {},
   "outputs": [],
   "source": []
  },
  {
   "cell_type": "code",
   "execution_count": null,
   "metadata": {},
   "outputs": [],
   "source": []
  },
  {
   "cell_type": "code",
   "execution_count": null,
   "metadata": {},
   "outputs": [],
   "source": []
  },
  {
   "cell_type": "code",
   "execution_count": null,
   "metadata": {},
   "outputs": [],
   "source": [
    "i = 9\n",
    "mp.plot(\n",
    "    predictions[i][0][0,:,:],\n",
    "    c=predictions[i][1][0,:],\n",
    "    shading={'point_size':0.5})"
   ]
  },
  {
   "cell_type": "code",
   "execution_count": null,
   "metadata": {},
   "outputs": [],
   "source": [
    "pred = model(data, grids, indices)\n",
    "pred_xyz = pred[:,:3].unsqueeze(0).float()\n",
    "pred_m = pred[:,3].unsqueeze(0).float()\n",
    "loss = chamferDist(pred_xyz, target) + chamferDist(target, pred_xyz)\n",
    "#loss.backward()\n",
    "#opt.step()\n",
    "#losses.append(loss.detach().item())\n",
    "#params.append(data.face_surface_parameters.detach().numpy())"
   ]
  },
  {
   "cell_type": "code",
   "execution_count": null,
   "metadata": {},
   "outputs": [],
   "source": [
    "data.face_surface_parameters.requires_grad"
   ]
  },
  {
   "cell_type": "code",
   "execution_count": null,
   "metadata": {},
   "outputs": [],
   "source": [
    "i = num_iters - 1\n",
    "plot2 =mp.plot(\n",
    "    predictions[i][0][0,:,:],\n",
    "    c=predictions[i][1][0,:],\n",
    "    shading={'point_size':0.1},\n",
    "    return_plot=True)\n",
    "plot2.add_points(target_pc.numpy(), shading={'point_size':0.1, 'point_color':'red'})\n",
    "plot2.add_mesh(angled_V.numpy(), angled_F.T.numpy())"
   ]
  },
  {
   "cell_type": "code",
   "execution_count": null,
   "metadata": {},
   "outputs": [],
   "source": [
    "chamferDist(pred_xyz.unsqueeze(0).float(), target_pc.unsqueeze(0).float())"
   ]
  },
  {
   "cell_type": "code",
   "execution_count": null,
   "metadata": {},
   "outputs": [],
   "source": [
    "from matplotlib import pyplot as plt"
   ]
  },
  {
   "cell_type": "code",
   "execution_count": null,
   "metadata": {},
   "outputs": [],
   "source": [
    "plt.plot(losses)"
   ]
  },
  {
   "cell_type": "code",
   "execution_count": null,
   "metadata": {},
   "outputs": [],
   "source": []
  },
  {
   "cell_type": "code",
   "execution_count": null,
   "metadata": {},
   "outputs": [],
   "source": []
  },
  {
   "cell_type": "code",
   "execution_count": null,
   "metadata": {},
   "outputs": [],
   "source": [
    "[x for x in dir(BRepBuilderAPI) if 'Make' in x]"
   ]
  },
  {
   "cell_type": "code",
   "execution_count": null,
   "metadata": {},
   "outputs": [],
   "source": [
    "plane = Geom.Geom_Plane(1.0,1.0,0.0,1.0)"
   ]
  },
  {
   "cell_type": "code",
   "execution_count": null,
   "metadata": {},
   "outputs": [],
   "source": [
    "plane"
   ]
  },
  {
   "cell_type": "code",
   "execution_count": null,
   "metadata": {},
   "outputs": [],
   "source": [
    "plane.Axis().Location().Z()"
   ]
  },
  {
   "cell_type": "code",
   "execution_count": null,
   "metadata": {},
   "outputs": [],
   "source": [
    "plane.Axis()"
   ]
  },
  {
   "cell_type": "code",
   "execution_count": null,
   "metadata": {},
   "outputs": [],
   "source": []
  },
  {
   "cell_type": "code",
   "execution_count": null,
   "metadata": {},
   "outputs": [],
   "source": [
    "loc = gp_Pnt(0, 0, 0)\n",
    "z_ax = gp_Dir(0,0,1)\n",
    "x_ax = gp_Dir(1,0,0)"
   ]
  },
  {
   "cell_type": "code",
   "execution_count": null,
   "metadata": {},
   "outputs": [],
   "source": [
    "plane1 = Geom.Geom_Plane(gp_Pnt(0,0,0), gp_Dir(1,0,0))\n",
    "plane2 = Geom.Geom_Plane(gp_Pnt(0,0,0), gp_Dir(0,0,1))"
   ]
  },
  {
   "cell_type": "code",
   "execution_count": null,
   "metadata": {},
   "outputs": [],
   "source": [
    "plane_intersection = OCC.Core.GeomAPI.GeomAPI_IntSS(plane1, plane2, 0.0001)\n",
    "plane_intersection.IsDone()\n",
    "intersection_curve = plane_intersection.Line(1)\n",
    "icurve_type = intersection_curve.DynamicType()\n",
    "icurve_type.Name()"
   ]
  },
  {
   "cell_type": "code",
   "execution_count": null,
   "metadata": {},
   "outputs": [],
   "source": []
  },
  {
   "cell_type": "code",
   "execution_count": null,
   "metadata": {},
   "outputs": [],
   "source": []
  },
  {
   "cell_type": "code",
   "execution_count": null,
   "metadata": {},
   "outputs": [],
   "source": []
  },
  {
   "cell_type": "code",
   "execution_count": null,
   "metadata": {},
   "outputs": [],
   "source": []
  },
  {
   "cell_type": "code",
   "execution_count": null,
   "metadata": {},
   "outputs": [],
   "source": [
    "face = BRepBuilderAPI.BRepBuilderAPI_MakeFace()"
   ]
  },
  {
   "cell_type": "code",
   "execution_count": null,
   "metadata": {},
   "outputs": [],
   "source": [
    "import OCC\n",
    "import OCC.Core"
   ]
  },
  {
   "cell_type": "code",
   "execution_count": null,
   "metadata": {},
   "outputs": [],
   "source": [
    "\n",
    "from OCC.Core.BRepPrimAPI import BRepPrimAPI_MakeBox, BRepPrimAPI_MakeSphere, BRepPrimAPI_MakeCylinder\n",
    "from OCC.Core.gp import gp_Pnt"
   ]
  },
  {
   "cell_type": "code",
   "execution_count": null,
   "metadata": {},
   "outputs": [],
   "source": []
  },
  {
   "cell_type": "code",
   "execution_count": null,
   "metadata": {},
   "outputs": [],
   "source": [
    "box_shape = BRepPrimAPI_MakeBox(10,20,30).Shape()\n",
    "cylinder_shape = BRepPrimAPI_MakeCylinder(10,30).Shape()"
   ]
  },
  {
   "cell_type": "code",
   "execution_count": null,
   "metadata": {},
   "outputs": [],
   "source": []
  },
  {
   "cell_type": "code",
   "execution_count": null,
   "metadata": {},
   "outputs": [],
   "source": []
  },
  {
   "cell_type": "code",
   "execution_count": null,
   "metadata": {},
   "outputs": [],
   "source": [
    "my_renderer.DisplayShape(\n",
    "    cylinder_shape, \n",
    "    render_edges=True, \n",
    "    topo_level=\"Face\", \n",
    "    shape_color=\"#abdda4\",\n",
    "    update=True)"
   ]
  },
  {
   "cell_type": "code",
   "execution_count": null,
   "metadata": {},
   "outputs": [],
   "source": [
    "import math\n",
    "\n",
    "from OCC.Core.gp import (\n",
    "    gp_Pnt,\n",
    "    gp_Sphere,\n",
    "    gp_Ax3,\n",
    "    gp_Dir,\n",
    "    gp_Circ,\n",
    "    gp_Ax2,\n",
    "    gp_Pnt2d,\n",
    "    gp_Dir2d,\n",
    ")\n",
    "from OCC.Core.BRepBuilderAPI import (\n",
    "    BRepBuilderAPI_MakeEdge,\n",
    "    BRepBuilderAPI_MakeFace,\n",
    "    BRepBuilderAPI_MakeWire,\n",
    ")\n",
    "from OCC.Core.TColgp import TColgp_Array2OfPnt\n",
    "from OCC.Core.GeomAPI import GeomAPI_PointsToBSplineSurface\n",
    "from OCC.Core.GeomAbs import GeomAbs_C2\n",
    "from OCC.Core.Geom2d import Geom2d_Line\n",
    "from OCC.Core.BRepLib import breplib_BuildCurves3d\n",
    "from OCC.Core.Quantity import Quantity_Color, Quantity_NOC_PINK"
   ]
  },
  {
   "cell_type": "code",
   "execution_count": null,
   "metadata": {},
   "outputs": [],
   "source": [
    "p1 = gp_Pnt()\n",
    "p2 = gp_Pnt()\n",
    "p3 = gp_Pnt()\n",
    "p4 = gp_Pnt()\n",
    "p5 = gp_Pnt()\n",
    "p6 = gp_Pnt()\n",
    "\n",
    "# The white Face\n",
    "sphere = gp_Sphere(gp_Ax3(gp_Pnt(0, 0, 0), gp_Dir(1, 0, 0)), 150)\n",
    "green_face = BRepBuilderAPI_MakeFace(sphere, 0.1, 0.7, 0.2, 0.9)\n",
    "\n",
    "# The red face\n",
    "p1.SetCoord(-15, 200, 10)\n",
    "p2.SetCoord(5, 204, 0)\n",
    "p3.SetCoord(15, 200, 0)\n",
    "p4.SetCoord(-15, 20, 15)\n",
    "p5.SetCoord(-5, 20, 0)\n",
    "p6.SetCoord(15, 20, 35)\n",
    "array = TColgp_Array2OfPnt(1, 3, 1, 2)\n",
    "array.SetValue(1, 1, p1)\n",
    "array.SetValue(2, 1, p2)\n",
    "array.SetValue(3, 1, p3)\n",
    "array.SetValue(1, 2, p4)\n",
    "array.SetValue(2, 2, p5)\n",
    "array.SetValue(3, 2, p6)\n",
    "curve = GeomAPI_PointsToBSplineSurface(array, 3, 8, GeomAbs_C2, 0.001).Surface()\n",
    "red_face = BRepBuilderAPI_MakeFace(curve, 1e-6)\n",
    "\n",
    "# The brown face\n",
    "circle = gp_Circ(gp_Ax2(gp_Pnt(0, 0, 0), gp_Dir(1, 0, 0)), 80)\n",
    "Edge1 = BRepBuilderAPI_MakeEdge(circle, 0, math.pi)\n",
    "Edge2 = BRepBuilderAPI_MakeEdge(gp_Pnt(0, 0, -80), gp_Pnt(0, -10, 40))\n",
    "Edge3 = BRepBuilderAPI_MakeEdge(gp_Pnt(0, -10, 40), gp_Pnt(0, 0, 80))\n",
    "\n",
    "##TopoDS_Wire YellowWire\n",
    "MW1 = BRepBuilderAPI_MakeWire(Edge1.Edge(), Edge2.Edge(), Edge3.Edge())\n",
    "if not MW1.IsDone():\n",
    "    raise AssertionError(\"MW1 is not done.\")\n",
    "yellow_wire = MW1.Wire()\n",
    "brown_face = BRepBuilderAPI_MakeFace(yellow_wire)\n",
    "\n",
    "# The pink face\n",
    "p1.SetCoord(35, -200, 40)\n",
    "p2.SetCoord(50, -204, 30)\n",
    "p3.SetCoord(65, -200, 30)\n",
    "p4.SetCoord(35, -20, 45)\n",
    "p5.SetCoord(45, -20, 30)\n",
    "p6.SetCoord(65, -20, 65)\n",
    "array2 = TColgp_Array2OfPnt(1, 3, 1, 2)\n",
    "array2.SetValue(1, 1, p1)\n",
    "array2.SetValue(2, 1, p2)\n",
    "array2.SetValue(3, 1, p3)\n",
    "array2.SetValue(1, 2, p4)\n",
    "array2.SetValue(2, 2, p5)\n",
    "array2.SetValue(3, 2, p6)\n",
    "BSplineSurf = GeomAPI_PointsToBSplineSurface(array2, 3, 8, GeomAbs_C2, 0.001)\n",
    "aFace = BRepBuilderAPI_MakeFace(BSplineSurf.Surface(), 1e-6).Face()\n",
    "##\n",
    "##//2d lines\n",
    "P12d = gp_Pnt2d(0.9, 0.1)\n",
    "P22d = gp_Pnt2d(0.2, 0.7)\n",
    "P32d = gp_Pnt2d(0.02, 0.1)\n",
    "##\n",
    "line1 = Geom2d_Line(P12d, gp_Dir2d((0.2 - 0.9), (0.7 - 0.1)))\n",
    "line2 = Geom2d_Line(P22d, gp_Dir2d((0.02 - 0.2), (0.1 - 0.7)))\n",
    "line3 = Geom2d_Line(P32d, gp_Dir2d((0.9 - 0.02), (0.1 - 0.1)))\n",
    "##\n",
    "##//Edges are on the BSpline surface\n",
    "Edge1 = BRepBuilderAPI_MakeEdge(\n",
    "    line1, BSplineSurf.Surface(), 0, P12d.Distance(P22d)\n",
    ").Edge()\n",
    "Edge2 = BRepBuilderAPI_MakeEdge(\n",
    "    line2, BSplineSurf.Surface(), 0, P22d.Distance(P32d)\n",
    ").Edge()\n",
    "Edge3 = BRepBuilderAPI_MakeEdge(\n",
    "    line3, BSplineSurf.Surface(), 0, P32d.Distance(P12d)\n",
    ").Edge()\n",
    "##\n",
    "Wire1 = BRepBuilderAPI_MakeWire(Edge1, Edge2, Edge3).Wire()\n",
    "Wire1.Reverse()\n",
    "pink_face = BRepBuilderAPI_MakeFace(aFace, Wire1).Face()\n",
    "breplib_BuildCurves3d(pink_face)\n",
    "\n",
    "my_renderer.DisplayShape(green_face.Face())\n",
    "my_renderer.DisplayShape(red_face.Face())\n",
    "my_renderer.DisplayShape(pink_face)\n",
    "my_renderer.DisplayShape(brown_face.Face(),update=True)\n",
    "\n",
    "#display.DisplayColoredShape(green_face.Face(), \"GREEN\")\n",
    "#display.DisplayColoredShape(red_face.Face(), \"RED\")\n",
    "#display.DisplayColoredShape(pink_face, Quantity_Color(Quantity_NOC_PINK))\n",
    "#display.DisplayColoredShape(brown_face.Face(), \"BLUE\")\n",
    "#display.DisplayColoredShape(yellow_wire, \"YELLOW\", update=True)"
   ]
  },
  {
   "cell_type": "code",
   "execution_count": null,
   "metadata": {},
   "outputs": [],
   "source": []
  }
 ],
 "metadata": {
  "kernelspec": {
   "display_name": "Python 3.9.13 ('hybridbrep')",
   "language": "python",
   "name": "python3"
  },
  "language_info": {
   "codemirror_mode": {
    "name": "ipython",
    "version": 3
   },
   "file_extension": ".py",
   "mimetype": "text/x-python",
   "name": "python",
   "nbconvert_exporter": "python",
   "pygments_lexer": "ipython3",
   "version": "3.9.13"
  },
  "vscode": {
   "interpreter": {
    "hash": "6aa2ac8926c38c90b9dbe4656179f4fe9d7aa58f584c2a3569efb38019544a4b"
   }
  }
 },
 "nbformat": 4,
 "nbformat_minor": 4
}

{
 "cells": [
  {
   "cell_type": "code",
   "execution_count": 1,
   "metadata": {},
   "outputs": [],
   "source": [
    "from hybridbrep import GeneralConvEncDec, BRepFaceAutoencoder, HybridPartDataset\n",
    "import json\n",
    "from zipfile import ZipFile\n",
    "import torch\n",
    "from tqdm import tqdm\n",
    "import numpy as np\n",
    "from matplotlib import pyplot as plt\n",
    "from train_latent_space import BRepFaceAutoencoder as OldAutoencoder, BRepDS as OldDS\n",
    "import altair as alt\n",
    "import pandas as pd"
   ]
  },
  {
   "cell_type": "code",
   "execution_count": 2,
   "metadata": {},
   "outputs": [
    {
     "data": {
      "text/plain": [
       "<All keys matched successfully>"
      ]
     },
     "execution_count": 2,
     "metadata": {},
     "output_type": "execute_result"
    }
   ],
   "source": [
    "old_model = BRepFaceAutoencoder(64, 1024, 4, True)\n",
    "new_model = GeneralConvEncDec(64, 1024, 4)\n",
    "\n",
    "old_ckpt_path = '/home/ben/Documents/research/repbrep/training_logs/reconstruction/old_with_loops/version_0/checkpoints/epoch=54-val_loss=0.002403.ckpt'\n",
    "new_ckpt_path = '/home/ben/Documents/research/repbrep/training_logs/reconstruction/new_with_edges/version_1/checkpoints/epoch=183-val_loss=0.002646.ckpt'\n",
    "\n",
    "old_ckpt = torch.load(old_ckpt_path)\n",
    "new_ckpt = torch.load(new_ckpt_path)\n",
    "\n",
    "old_model.load_state_dict(old_ckpt['state_dict'])\n",
    "new_model.load_state_dict(new_ckpt['state_dict'])"
   ]
  },
  {
   "cell_type": "code",
   "execution_count": 3,
   "metadata": {},
   "outputs": [
    {
     "name": "stderr",
     "output_type": "stream",
     "text": [
      "100%|██████████| 27450/27450 [01:12<00:00, 376.07it/s]\n"
     ]
    }
   ],
   "source": [
    "with ZipFile('../../datasets/fusion360seg_hpart_fixed.zip','r') as zf:\n",
    "    names = [n for n in zf.namelist() if n.endswith('.stp')]\n",
    "    data = []\n",
    "    for n in tqdm(names):\n",
    "        with zf.open(n, 'r') as f:\n",
    "            data.append((n, torch.load(f)))"
   ]
  },
  {
   "cell_type": "code",
   "execution_count": 6,
   "metadata": {},
   "outputs": [
    {
     "data": {
      "text/plain": [
       "tensor([[ 7,  5,  6,  1,  7,  6,  1,  7,  6,  2,  7,  6,  4,  4,  6,  5,  5,  6],\n",
       "        [ 0,  0,  0,  0,  1,  1,  2,  2,  2,  3,  3,  3,  3,  7,  4,  4,  7,  5],\n",
       "        [ 0,  1,  2,  3,  4,  5,  6,  7,  8,  9, 10, 11, 12, 13, 14, 15, 16, 17]])"
      ]
     },
     "execution_count": 6,
     "metadata": {},
     "output_type": "execute_result"
    }
   ],
   "source": [
    "data[0][1].face_to_face"
   ]
  },
  {
   "cell_type": "code",
   "execution_count": 7,
   "metadata": {},
   "outputs": [],
   "source": [
    "with open('../../datasets/fusion360seg.json','r') as f:\n",
    "    index = json.load(f)"
   ]
  },
  {
   "cell_type": "code",
   "execution_count": 12,
   "metadata": {},
   "outputs": [],
   "source": [
    "labels = {}\n",
    "\n",
    "for i in range(len(index['train'])):\n",
    "    k = index['train'][i]\n",
    "    n = index['template'].format(*k)\n",
    "    l = torch.tensor(index['train_labels'][i]).long()\n",
    "    labels[n] = l\n",
    "\n",
    "for i in range(len(index['test'])):\n",
    "    k = index['test'][i]\n",
    "    n = index['template'].format(*k)\n",
    "    l = torch.tensor(index['test_labels'][i]).long()\n",
    "    labels[n] = l"
   ]
  },
  {
   "cell_type": "code",
   "execution_count": 14,
   "metadata": {},
   "outputs": [
    {
     "name": "stderr",
     "output_type": "stream",
     "text": [
      "100%|██████████| 27450/27450 [00:48<00:00, 564.51it/s]\n"
     ]
    }
   ],
   "source": [
    "old_precoded = {}\n",
    "new_precoded = {}\n",
    "for n, hdata in tqdm(data):\n",
    "    y = labels[n]\n",
    "    x_old = old_model.encode(hdata).float()\n",
    "    x_new = new_model.encode_faces(hdata).float()\n",
    "    edge_index = hdata.face_to_face[:2].long()\n",
    "    old_precoded[n] = {\n",
    "        'x':x_old,\n",
    "        'y':y,\n",
    "        'edge_index':edge_index\n",
    "    }\n",
    "    new_precoded[n] = {\n",
    "        'x':x_new,\n",
    "        'y':y,\n",
    "        'edge_index':edge_index\n",
    "    }"
   ]
  },
  {
   "cell_type": "code",
   "execution_count": 17,
   "metadata": {},
   "outputs": [],
   "source": [
    "torch.save(old_precoded,'../../datasets/fusion360seg_precoded_old_model_new_data.pt')\n",
    "torch.save(new_precoded,'../../datasets/fusion360seg_precoded_new_model_new_data.pt')"
   ]
  },
  {
   "cell_type": "code",
   "execution_count": null,
   "metadata": {},
   "outputs": [],
   "source": []
  }
 ],
 "metadata": {
  "kernelspec": {
   "display_name": "Python 3.9.13 ('hybridbrep')",
   "language": "python",
   "name": "python3"
  },
  "language_info": {
   "codemirror_mode": {
    "name": "ipython",
    "version": 3
   },
   "file_extension": ".py",
   "mimetype": "text/x-python",
   "name": "python",
   "nbconvert_exporter": "python",
   "pygments_lexer": "ipython3",
   "version": "3.9.13"
  },
  "orig_nbformat": 4,
  "vscode": {
   "interpreter": {
    "hash": "6aa2ac8926c38c90b9dbe4656179f4fe9d7aa58f584c2a3569efb38019544a4b"
   }
  }
 },
 "nbformat": 4,
 "nbformat_minor": 2
}
